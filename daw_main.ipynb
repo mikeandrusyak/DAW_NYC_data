{
 "cells": [
  {
   "cell_type": "markdown",
   "id": "97f97e29",
   "metadata": {},
   "source": [
    "# libs_daw Demonstration - Step-by-Step Usage\n",
    "\n",
    "This notebook demonstrates simplified step-by-step usage of the libs_daw library for processing NYC data."
   ]
  },
  {
   "cell_type": "markdown",
   "id": "76d004c0",
   "metadata": {},
   "source": [
    "## Library Import"
   ]
  },
  {
   "cell_type": "code",
   "execution_count": null,
   "id": "ea29d9b7",
   "metadata": {},
   "outputs": [],
   "source": [
    "# Import simplified pipeline\n",
    "from libs_daw import NYCDataPipeline\n",
    "import pandas as pd\n",
    "\n",
    "print(\"Simplified libs_daw library successfully imported!\")"
   ]
  },
  {
   "cell_type": "markdown",
   "id": "322bcc51",
   "metadata": {},
   "source": [
    "## Step-by-Step Pipeline Usage\n",
    "\n",
    "We use 4 main data processing steps:"
   ]
  },
  {
   "cell_type": "code",
   "execution_count": null,
   "id": "5f3303a1",
   "metadata": {},
   "outputs": [],
   "source": [
    "# Pipeline initialization\n",
    "pipeline = NYCDataPipeline()\n",
    "\n",
    "print(\"Pipeline initialized!\")"
   ]
  },
  {
   "cell_type": "markdown",
   "id": "a9674396",
   "metadata": {},
   "source": [
    "### Step 1: Data Loading"
   ]
  },
  {
   "cell_type": "code",
   "execution_count": null,
   "id": "83a6cb31",
   "metadata": {},
   "outputs": [],
   "source": [
    "# Load all required data\n",
    "df_nyc_311, df_median_rent, uhf_data, manual_map = pipeline.load_data()"
   ]
  },
  {
   "cell_type": "markdown",
   "id": "9fae52d1",
   "metadata": {},
   "source": [
    "### Step 2: Data Cleaning"
   ]
  },
  {
   "cell_type": "code",
   "execution_count": null,
   "id": "7d90cab9",
   "metadata": {},
   "outputs": [],
   "source": [
    "# Clean both datasets\n",
    "df_nyc_311_cleaned, df_median_rent_cleaned = pipeline.clean_data(\n",
    "    df_nyc_311, df_median_rent\n",
    ")"
   ]
  },
  {
   "cell_type": "markdown",
   "id": "ddae8089",
   "metadata": {},
   "source": [
    "### Step 3: Data Transformation"
   ]
  },
  {
   "cell_type": "code",
   "execution_count": null,
   "id": "2d50c865",
   "metadata": {},
   "outputs": [],
   "source": [
    "# Transform data and create new features\n",
    "df_nyc_311_transformed, df_median_rent_transformed = pipeline.transform_data(\n",
    "    df_nyc_311_cleaned, df_median_rent_cleaned, uhf_data, manual_map\n",
    ")"
   ]
  },
  {
   "cell_type": "markdown",
   "id": "7fd4801e",
   "metadata": {},
   "source": [
    "### Step 4: Aggregation and Integration"
   ]
  },
  {
   "cell_type": "code",
   "execution_count": null,
   "id": "7110bde8",
   "metadata": {},
   "outputs": [],
   "source": [
    "# Combine and create final dataset\n",
    "final_dataset = pipeline.aggregate_and_integrate(\n",
    "    df_nyc_311_transformed, df_median_rent_transformed\n",
    ")\n",
    "\n",
    "print(f\"\\nFinal dataset created: {final_dataset.shape}\")"
   ]
  },
  {
   "cell_type": "markdown",
   "id": "d04f3089",
   "metadata": {},
   "source": [
    "## Results Overview"
   ]
  },
  {
   "cell_type": "code",
   "execution_count": null,
   "id": "3d28c180",
   "metadata": {},
   "outputs": [],
   "source": [
    "# Review final dataset structure\n",
    "print(\"=== FINAL DATASET STRUCTURE ===\")\n",
    "print(f\"Size: {final_dataset.shape}\")\n",
    "print(f\"Columns: {list(final_dataset.columns)}\")\n",
    "\n",
    "print(\"\\n=== DATA SAMPLE ===\")\n",
    "display(final_dataset.head(10))"
   ]
  },
  {
   "cell_type": "code",
   "execution_count": null,
   "id": "9a25e1ad",
   "metadata": {},
   "outputs": [],
   "source": [
    "# Basic statistics\n",
    "print(\"=== BASIC STATISTICS ===\")\n",
    "print(f\"Total records: {len(final_dataset):,}\")\n",
    "print(f\"Unique neighborhoods: {final_dataset['neighborhood'].nunique()}\")\n",
    "print(f\"Unique complaint types: {final_dataset['complaint_type'].nunique()}\")\n",
    "print(f\"Year range: {final_dataset['year'].min()}-{final_dataset['year'].max()}\")\n",
    "\n",
    "print(\"\\n=== DATA COMPLETENESS ===\")\n",
    "completeness = (final_dataset.notna().sum() / len(final_dataset) * 100).round(1)\n",
    "for col, pct in completeness.items():\n",
    "    print(f\"{col}: {pct}%\")"
   ]
  },
  {
   "cell_type": "code",
   "execution_count": null,
   "id": "2caf0d1c",
   "metadata": {},
   "outputs": [],
   "source": [
    "final_dataset\n"
   ]
  }
 ],
 "metadata": {
  "kernelspec": {
   "display_name": ".venv (3.12.5)",
   "language": "python",
   "name": "python3"
  },
  "language_info": {
   "codemirror_mode": {
    "name": "ipython",
    "version": 3
   },
   "file_extension": ".py",
   "mimetype": "text/x-python",
   "name": "python",
   "nbconvert_exporter": "python",
   "pygments_lexer": "ipython3",
   "version": "3.12.5"
  }
 },
 "nbformat": 4,
 "nbformat_minor": 5
}
