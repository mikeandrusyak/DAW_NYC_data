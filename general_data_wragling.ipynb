{
 "cells": [
  {
   "cell_type": "code",
   "execution_count": null,
   "id": "5c65c6fe",
   "metadata": {},
   "outputs": [],
   "source": [
    "import pandas as pd"
   ]
  },
  {
   "cell_type": "code",
   "execution_count": null,
   "id": "c2a79e3a",
   "metadata": {},
   "outputs": [],
   "source": [
    "df_nyc_311 = pd.read_csv('data/nyc_311_2024_2025_sample.csv', index_col=\"unique_key\")\n",
    "df_median_rent = pd.read_csv('data/medianAskingRent_All.csv')"
   ]
  },
  {
   "cell_type": "code",
   "execution_count": null,
   "id": "def77ede",
   "metadata": {},
   "outputs": [],
   "source": [
    "print(df_nyc_311.shape)\n",
    "print(df_median_rent.shape)"
   ]
  },
  {
   "cell_type": "code",
   "execution_count": null,
   "id": "b7acf207",
   "metadata": {},
   "outputs": [],
   "source": [
    "df_median_rent.head()"
   ]
  },
  {
   "cell_type": "code",
   "execution_count": null,
   "id": "27f3a283",
   "metadata": {},
   "outputs": [],
   "source": [
    "df_nyc_311.head(5)"
   ]
  },
  {
   "cell_type": "code",
   "execution_count": null,
   "id": "a7436c9c",
   "metadata": {},
   "outputs": [],
   "source": [
    "list_of_relevant_columns = ['created_date', 'closed_date', 'complaint_type',\n",
    "                            'descriptor', 'status', 'resolution_description',\n",
    "                            'resolution_action_updated_date', 'borough',\n",
    "                            'community_board', 'incident_zip', \n",
    "                            'incident_address', 'street_name', 'city',\n",
    "                            'latitude', 'longitude']\n",
    "\n",
    "df_nyc_311_selected = df_nyc_311[list_of_relevant_columns]"
   ]
  },
  {
   "cell_type": "code",
   "execution_count": null,
   "id": "b25b7940",
   "metadata": {},
   "outputs": [],
   "source": [
    "date_columns = [col for col in df_median_rent.columns if col.startswith('2024') or col.startswith('2025')]\n",
    "df_median_rent_selected = df_median_rent[df_median_rent.columns[:3].to_list() + date_columns]"
   ]
  },
  {
   "cell_type": "code",
   "execution_count": null,
   "id": "ff7aa14b",
   "metadata": {},
   "outputs": [],
   "source": [
    "df_nyc_311_selected.head()"
   ]
  },
  {
   "cell_type": "code",
   "execution_count": null,
   "id": "766a086e",
   "metadata": {},
   "outputs": [],
   "source": [
    "df_nyc_311_selected.describe(include='all')"
   ]
  },
  {
   "cell_type": "code",
   "execution_count": null,
   "id": "d95be42b",
   "metadata": {},
   "outputs": [],
   "source": [
    "# Analysis of missing values with percentages\n",
    "missing_values = df_nyc_311_selected.isna().sum().sort_values(ascending=False)\n",
    "missing_percentage = (df_nyc_311_selected.isna().sum() / len(df_nyc_311_selected) * 100).sort_values(ascending=False)\n",
    "\n",
    "# Creating a DataFrame for convenient display\n",
    "missing_data = pd.DataFrame({\n",
    "    'Missing_Count': missing_values,\n",
    "    'Missing_Percentage': missing_percentage\n",
    "})\n",
    "\n",
    "# Only show columns with empty values\n",
    "missing_data = missing_data[missing_data['Missing_Count'] > 0]\n",
    "\n",
    "print(f\"Total number of rows in the dataset: {len(df_nyc_311)}\")\n",
    "print(\"\\nAnalysis of empty values:\")\n",
    "print(missing_data.round(2))"
   ]
  },
  {
   "cell_type": "code",
   "execution_count": null,
   "id": "8f826ed2",
   "metadata": {},
   "outputs": [],
   "source": [
    "print( \"Duplicate rows in rent data:\",df_median_rent_selected.duplicated().sum())\n",
    "print( \"Duplicate rows in 311 data:\",df_nyc_311_selected.duplicated().sum())"
   ]
  },
  {
   "cell_type": "code",
   "execution_count": null,
   "id": "5566edf6",
   "metadata": {},
   "outputs": [],
   "source": [
    "df_nyc_311_selected = df_nyc_311_selected.drop_duplicates()\n",
    "df_nyc_311_selected.shape"
   ]
  },
  {
   "cell_type": "code",
   "execution_count": null,
   "id": "592b653a",
   "metadata": {},
   "outputs": [],
   "source": [
    "df_nyc_311_selected['created_date'] = pd.to_datetime(df_nyc_311_selected['created_date'], errors='coerce')\n",
    "df_nyc_311_selected['closed_date'] = pd.to_datetime(df_nyc_311_selected['closed_date'], errors='coerce')\n",
    "df_nyc_311_selected['resolution_action_updated_date'] = pd.to_datetime(df_nyc_311_selected['resolution_action_updated_date'], errors='coerce')\n",
    "df_nyc_311_selected.shape"
   ]
  },
  {
   "cell_type": "code",
   "execution_count": null,
   "id": "b730c93d",
   "metadata": {},
   "outputs": [],
   "source": [
    "df_nyc_311_selected[df_nyc_311_selected['created_date'] > df_nyc_311_selected['closed_date']].shape[0]"
   ]
  },
  {
   "cell_type": "code",
   "execution_count": null,
   "id": "25feffcf",
   "metadata": {},
   "outputs": [],
   "source": [
    "df_nyc_311_selected = df_nyc_311_selected[(df_nyc_311_selected['created_date'] <= df_nyc_311_selected['closed_date']) | (df_nyc_311_selected['closed_date'].isna())]\n",
    "df_nyc_311_selected.shape"
   ]
  },
  {
   "cell_type": "code",
   "execution_count": null,
   "id": "57ba5062",
   "metadata": {},
   "outputs": [],
   "source": [
    "unique_counts = df_nyc_311_selected.nunique()\n",
    "columns_to_check = unique_counts[unique_counts < 1000].index.to_list()\n",
    "\n",
    "for col in columns_to_check:\n",
    "    print(f\"Value counts for column '{col}':\")\n",
    "    print(df_nyc_311_selected[col].value_counts())\n",
    "    print(\"\\n\")"
   ]
  },
  {
   "cell_type": "code",
   "execution_count": null,
   "id": "024ce671",
   "metadata": {},
   "outputs": [],
   "source": [
    "columns_to_check"
   ]
  },
  {
   "cell_type": "code",
   "execution_count": null,
   "id": "4dbcfcfd",
   "metadata": {},
   "outputs": [],
   "source": []
  }
 ],
 "metadata": {
  "kernelspec": {
   "display_name": ".venv (3.12.5)",
   "language": "python",
   "name": "python3"
  },
  "language_info": {
   "codemirror_mode": {
    "name": "ipython",
    "version": 3
   },
   "file_extension": ".py",
   "mimetype": "text/x-python",
   "name": "python",
   "nbconvert_exporter": "python",
   "pygments_lexer": "ipython3",
   "version": "3.12.5"
  }
 },
 "nbformat": 4,
 "nbformat_minor": 5
}
