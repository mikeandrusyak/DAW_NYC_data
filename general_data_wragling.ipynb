{
 "cells": [
  {
   "cell_type": "code",
   "execution_count": null,
   "id": "5c65c6fe",
   "metadata": {},
   "outputs": [],
   "source": [
    "import pandas as pd"
   ]
  },
  {
   "cell_type": "code",
   "execution_count": null,
   "id": "c2a79e3a",
   "metadata": {},
   "outputs": [],
   "source": [
    "df_nyc_311 = pd.read_csv('data/nyc_311_2024_2025_sample.csv', index_col=\"unique_key\")\n",
    "df_median_rent = pd.read_csv('data/medianAskingRent_All.csv')"
   ]
  },
  {
   "cell_type": "code",
   "execution_count": null,
   "id": "def77ede",
   "metadata": {},
   "outputs": [],
   "source": [
    "print(df_nyc_311.shape)\n",
    "print(df_median_rent.shape)"
   ]
  },
  {
   "cell_type": "code",
   "execution_count": null,
   "id": "b7acf207",
   "metadata": {},
   "outputs": [],
   "source": [
    "df_median_rent.head()"
   ]
  },
  {
   "cell_type": "code",
   "execution_count": null,
   "id": "27f3a283",
   "metadata": {},
   "outputs": [],
   "source": [
    "df_nyc_311.head(5)"
   ]
  },
  {
   "cell_type": "code",
   "execution_count": null,
   "id": "a7436c9c",
   "metadata": {},
   "outputs": [],
   "source": [
    "list_of_relevant_columns = ['created_date', 'closed_date', 'complaint_type',\n",
    "                            'descriptor', 'status', 'resolution_description',\n",
    "                            'resolution_action_updated_date', 'borough',\n",
    "                            'community_board', 'incident_zip', \n",
    "                            'incident_address', 'street_name', 'city',\n",
    "                            'latitude', 'longitude']\n",
    "\n",
    "df_nyc_311_selected = df_nyc_311[list_of_relevant_columns]"
   ]
  },
  {
   "cell_type": "code",
   "execution_count": null,
   "id": "b25b7940",
   "metadata": {},
   "outputs": [],
   "source": [
    "date_columns = [col for col in df_median_rent.columns if col.startswith('2024') or col.startswith('2025')]\n",
    "df_median_rent_selected = df_median_rent[df_median_rent.columns[:3].to_list() + date_columns].copy()"
   ]
  },
  {
   "cell_type": "code",
   "execution_count": null,
   "id": "ff7aa14b",
   "metadata": {},
   "outputs": [],
   "source": [
    "df_nyc_311_selected.head()"
   ]
  },
  {
   "cell_type": "code",
   "execution_count": null,
   "id": "766a086e",
   "metadata": {},
   "outputs": [],
   "source": [
    "df_nyc_311_selected.describe(include='all')"
   ]
  },
  {
   "cell_type": "code",
   "execution_count": null,
   "id": "d95be42b",
   "metadata": {},
   "outputs": [],
   "source": [
    "# Analysis of missing values with percentages\n",
    "missing_values = df_nyc_311_selected.isna().sum().sort_values(ascending=False)\n",
    "missing_percentage = (df_nyc_311_selected.isna().sum() / len(df_nyc_311_selected) * 100).sort_values(ascending=False)\n",
    "\n",
    "# Creating a DataFrame for convenient display\n",
    "missing_data = pd.DataFrame({\n",
    "    'Missing_Count': missing_values,\n",
    "    'Missing_Percentage': missing_percentage\n",
    "})\n",
    "\n",
    "# Only show columns with empty values\n",
    "missing_data = missing_data[missing_data['Missing_Count'] > 0]\n",
    "\n",
    "print(f\"Total number of rows in the dataset: {len(df_nyc_311)}\")\n",
    "print(\"\\nAnalysis of empty values:\")\n",
    "print(missing_data.round(2))"
   ]
  },
  {
   "cell_type": "code",
   "execution_count": null,
   "id": "8f826ed2",
   "metadata": {},
   "outputs": [],
   "source": [
    "print( \"Duplicate rows in rent data:\",df_median_rent_selected.duplicated().sum())\n",
    "print( \"Duplicate rows in 311 data:\",df_nyc_311_selected.duplicated().sum())"
   ]
  },
  {
   "cell_type": "code",
   "execution_count": null,
   "id": "5566edf6",
   "metadata": {},
   "outputs": [],
   "source": [
    "df_nyc_311_selected = df_nyc_311_selected.drop_duplicates()\n",
    "df_nyc_311_selected.shape"
   ]
  },
  {
   "cell_type": "code",
   "execution_count": null,
   "id": "592b653a",
   "metadata": {},
   "outputs": [],
   "source": [
    "# Convert date columns to datetime format\n",
    "df_nyc_311_selected['created_date'] = pd.to_datetime(df_nyc_311_selected['created_date'], errors='coerce')\n",
    "df_nyc_311_selected['closed_date'] = pd.to_datetime(df_nyc_311_selected['closed_date'], errors='coerce')\n",
    "df_nyc_311_selected['resolution_action_updated_date'] = pd.to_datetime(df_nyc_311_selected['resolution_action_updated_date'], errors='coerce')\n",
    "\n",
    "print(f\"Number of rows with created_date > closed_date, that will be removed: {df_nyc_311_selected[df_nyc_311_selected['created_date'] > df_nyc_311_selected['closed_date']].shape[0]}\")\n",
    "df_nyc_311_selected = df_nyc_311_selected[(df_nyc_311_selected['created_date'] <= df_nyc_311_selected['closed_date']) | (df_nyc_311_selected['closed_date'].isna())]"
   ]
  },
  {
   "cell_type": "code",
   "execution_count": null,
   "id": "57ba5062",
   "metadata": {},
   "outputs": [],
   "source": [
    "unique_counts = df_nyc_311_selected.nunique()\n",
    "columns_to_check = unique_counts[unique_counts < 1000].index.to_list()\n",
    "\n",
    "for col in columns_to_check:\n",
    "    print(f\"Value counts for column '{col}':\")\n",
    "    print(df_nyc_311_selected[col].value_counts())\n",
    "    print(\"\\n\")"
   ]
  },
  {
   "cell_type": "code",
   "execution_count": null,
   "id": "024ce671",
   "metadata": {},
   "outputs": [],
   "source": [
    "columns_to_check = ['complaint_type', 'descriptor', 'resolution_description', 'community_board', 'city']"
   ]
  },
  {
   "cell_type": "code",
   "execution_count": null,
   "id": "4dbcfcfd",
   "metadata": {},
   "outputs": [],
   "source": [
    "# Standardize 'city' entries: trim whitespace and convert to uppercase\n",
    "df_nyc_311_selected['city'] = df_nyc_311_selected['city'].str.strip().str.upper()\n",
    "\n",
    "# Replace known outside NYC locations with 'OUTSIDE NYC'\n",
    "outside = ['FLORAL PARK', 'NEW HYDE PARK', 'BREEZY POINT']\n",
    "df_nyc_311_selected['city'] = df_nyc_311_selected['city'].replace(outside, 'OUTSIDE NYC')"
   ]
  },
  {
   "cell_type": "code",
   "execution_count": null,
   "id": "70eb5d26",
   "metadata": {},
   "outputs": [],
   "source": [
    "import json\n",
    "\n",
    "# Download the JSON file with zip code mapping to neighborhoods\n",
    "with open('nyc_uhf_zipcodes.json', 'r') as f:\n",
    "    uhf_data = json.load(f)\n",
    "\n",
    "# Creating a dictionary for mapping zip codes to neighborhoods\n",
    "zip_to_neighborhood = {}\n",
    "\n",
    "for borough, neighborhoods in uhf_data.items():\n",
    "    for neighborhood_info in neighborhoods:\n",
    "        neighborhood_name = neighborhood_info['neighborhood']\n",
    "        zip_codes = neighborhood_info['zip_codes']\n",
    "        \n",
    "        for zip_code in zip_codes:\n",
    "            zip_to_neighborhood[zip_code] = neighborhood_name"
   ]
  },
  {
   "cell_type": "code",
   "execution_count": null,
   "id": "802cce28",
   "metadata": {},
   "outputs": [],
   "source": [
    "# Create incident_zip_str column for mapping and create neighborhood column\n",
    "df_nyc_311_selected['incident_zip_str'] = df_nyc_311_selected['incident_zip'].fillna(0).astype(int).astype(str).str.zfill(5)\n",
    "df_nyc_311_selected.loc[df_nyc_311_selected['incident_zip'].isna(), 'incident_zip_str'] = None\n",
    "\n",
    "df_nyc_311_selected['neighborhood'] = df_nyc_311_selected['incident_zip_str'].map(zip_to_neighborhood)\n",
    "\n",
    "# Check the results\n",
    "print(f\"Mapping results:\")\n",
    "print(f\"Number of records from neighborhood: {df_nyc_311_selected['neighborhood'].notna().sum()}\")\n",
    "print(f\"Number of records without neighborhood: {df_nyc_311_selected['neighborhood'].isna().sum()}\")\n",
    "print(f\"Coverage percentage: {(df_nyc_311_selected['neighborhood'].notna().sum() / len(df_nyc_311_selected) * 100):.2f}%\")\n",
    "\n",
    "# Drop the temporary incident_zip_str column\n",
    "df_nyc_311_selected = df_nyc_311_selected.drop('incident_zip_str', axis=1)"
   ]
  },
  {
   "cell_type": "code",
   "execution_count": null,
   "id": "68394f8e",
   "metadata": {},
   "outputs": [],
   "source": [
    "# Count nubmers of complaints per neighborhood\n",
    "complaints_by_neighborhood = df_nyc_311_selected.groupby(['neighborhood', 'complaint_type']).size().reset_index(name='counts').sort_values(by=['neighborhood', 'counts'], ascending=[True, False])"
   ]
  },
  {
   "cell_type": "code",
   "execution_count": null,
   "id": "9db5c9ff",
   "metadata": {},
   "outputs": [],
   "source": [
    "len(df_nyc_311_selected['neighborhood'].unique())"
   ]
  },
  {
   "cell_type": "code",
   "execution_count": null,
   "id": "fd412725",
   "metadata": {},
   "outputs": [],
   "source": [
    "len(df_median_rent_selected['areaName'].unique())"
   ]
  },
  {
   "cell_type": "code",
   "execution_count": null,
   "id": "5df0f0d2",
   "metadata": {},
   "outputs": [],
   "source": [
    "# Load mappining areaName to neighborhood\n",
    "with open('manual_map.json', 'r') as f:\n",
    "    manual_map = json.load(f)\n",
    "\n",
    "df_median_rent_selected['neighborhood'] = df_median_rent_selected['areaName'].str.lower().map(manual_map)"
   ]
  },
  {
   "cell_type": "code",
   "execution_count": null,
   "id": "8cde0620",
   "metadata": {},
   "outputs": [],
   "source": [
    "# Get rent stats per neighborhood\n",
    "date_columns = [col for col in df_median_rent_selected.columns if col.startswith('2024') or col.startswith('2025')]\n",
    "\n",
    "df_median_rent_selected['annual_avg_rent'] = df_median_rent_selected[date_columns].mean(axis=1)\n",
    "df_median_rent_selected['annual_median_rent'] = df_median_rent_selected[date_columns].median(axis=1)\n",
    "df_median_rent_selected['annual_std_rent'] = df_median_rent_selected[date_columns].std(axis=1)\n",
    "\n",
    "\n",
    "neighborhood_rent_stats = df_median_rent_selected.groupby('neighborhood').agg({\n",
    "    'annual_avg_rent': 'mean',\n",
    "    'annual_median_rent': 'mean', \n",
    "    'annual_std_rent': 'mean'\n",
    "}).reset_index()"
   ]
  },
  {
   "cell_type": "code",
   "execution_count": null,
   "id": "ad8e49a8",
   "metadata": {},
   "outputs": [],
   "source": [
    "df_merged = pd.merge(complaints_by_neighborhood, neighborhood_rent_stats, on='neighborhood', how='left')\n",
    "df_merged"
   ]
  },
  {
   "cell_type": "code",
   "execution_count": null,
   "id": "8bee9654",
   "metadata": {},
   "outputs": [],
   "source": []
  }
 ],
 "metadata": {
  "kernelspec": {
   "display_name": ".venv (3.12.5)",
   "language": "python",
   "name": "python3"
  },
  "language_info": {
   "codemirror_mode": {
    "name": "ipython",
    "version": 3
   },
   "file_extension": ".py",
   "mimetype": "text/x-python",
   "name": "python",
   "nbconvert_exporter": "python",
   "pygments_lexer": "ipython3",
   "version": "3.12.5"
  }
 },
 "nbformat": 4,
 "nbformat_minor": 5
}
