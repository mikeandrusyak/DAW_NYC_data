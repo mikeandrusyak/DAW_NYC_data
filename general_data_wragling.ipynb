{
 "cells": [
  {
   "cell_type": "markdown",
   "id": "282607f0",
   "metadata": {},
   "source": [
    "# NYC Data Wrangling Pipeline\n",
    "\n",
    "This notebook performs comprehensive data wrangling on NYC 311 complaint data and median rent data to create a unified dataset for analysis.\n",
    "\n",
    "## Pipeline Structure:\n",
    "1. **Data Import** - Load required libraries and datasets\n",
    "2. **Data Cleaning** - Handle missing values, duplicates, and data quality issues\n",
    "3. **Data Transformation** - Create new features and filter data\n",
    "4. **Data Integration** - Merge datasets and create final output"
   ]
  },
  {
   "cell_type": "markdown",
   "id": "45f57e68",
   "metadata": {},
   "source": [
    "## 1. Data Import"
   ]
  },
  {
   "cell_type": "markdown",
   "id": "0139e351",
   "metadata": {},
   "source": [
    "### Import Required Libraries"
   ]
  },
  {
   "cell_type": "code",
   "execution_count": 64,
   "id": "f2077329",
   "metadata": {},
   "outputs": [],
   "source": [
    "# Import necessary libraries for data manipulation and analysis\n",
    "import pandas as pd\n",
    "import json"
   ]
  },
  {
   "cell_type": "markdown",
   "id": "b48ba6a4",
   "metadata": {},
   "source": [
    "### Load Datasets"
   ]
  },
  {
   "cell_type": "code",
   "execution_count": 65,
   "id": "4655fb95",
   "metadata": {},
   "outputs": [
    {
     "name": "stdout",
     "output_type": "stream",
     "text": [
      "NYC 311 data shape: (71755, 42)\n",
      "Median rent data shape: (198, 191)\n"
     ]
    }
   ],
   "source": [
    "# Load NYC 311 complaints data and median rent data\n",
    "df_nyc_311 = pd.read_csv('data/nyc_311_2024_2025_sample.csv', index_col=\"unique_key\")\n",
    "df_median_rent = pd.read_csv('data/medianAskingRent_All.csv')\n",
    "\n",
    "print(f\"NYC 311 data shape: {df_nyc_311.shape}\")\n",
    "print(f\"Median rent data shape: {df_median_rent.shape}\")"
   ]
  },
  {
   "cell_type": "markdown",
   "id": "df3ae4c8",
   "metadata": {},
   "source": [
    "### Load Mapping Files"
   ]
  },
  {
   "cell_type": "code",
   "execution_count": 66,
   "id": "a0d79227",
   "metadata": {},
   "outputs": [],
   "source": [
    "# Load ZIP code to neighborhood mapping\n",
    "with open('nyc_uhf_zipcodes.json', 'r') as f:\n",
    "    uhf_data = json.load(f)\n",
    "\n",
    "# Load manual mapping for area names to neighborhoods\n",
    "with open('manual_map.json', 'r') as f:\n",
    "    manual_map = json.load(f)"
   ]
  },
  {
   "cell_type": "markdown",
   "id": "47204e24",
   "metadata": {},
   "source": [
    "### Initial Data Exploration"
   ]
  },
  {
   "cell_type": "code",
   "execution_count": 67,
   "id": "db698399",
   "metadata": {},
   "outputs": [
    {
     "name": "stdout",
     "output_type": "stream",
     "text": [
      "=== NYC 311 Dataset Sample ===\n",
      "                       created_date              closed_date agency  \\\n",
      "unique_key                                                            \n",
      "59945453    2024-01-06T13:06:35.000  2024-01-19T18:34:37.000    HPD   \n",
      "59949590    2024-01-06T14:31:27.000  2024-01-07T13:03:02.000    HPD   \n",
      "59957878    2024-01-08T07:45:53.000  2024-01-08T07:58:13.000   NYPD   \n",
      "59940883    2024-01-05T14:54:38.000  2024-01-05T20:48:26.000    HPD   \n",
      "59957240    2024-01-07T09:51:51.000  2024-03-08T16:55:31.000    HPD   \n",
      "\n",
      "                                                  agency_name  \\\n",
      "unique_key                                                      \n",
      "59945453    Department of Housing Preservation and Develop...   \n",
      "59949590    Department of Housing Preservation and Develop...   \n",
      "59957878                      New York City Police Department   \n",
      "59940883    Department of Housing Preservation and Develop...   \n",
      "59957240    Department of Housing Preservation and Develop...   \n",
      "\n",
      "                 complaint_type        descriptor               location_type  \\\n",
      "unique_key                                                                      \n",
      "59945453               ELECTRIC       NO LIGHTING        RESIDENTIAL BUILDING   \n",
      "59949590         HEAT/HOT WATER   ENTIRE BUILDING        RESIDENTIAL BUILDING   \n",
      "59957878    Noise - Residential  Banging/Pounding  Residential Building/House   \n",
      "59940883         HEAT/HOT WATER    APARTMENT ONLY        RESIDENTIAL BUILDING   \n",
      "59957240              APPLIANCE      REFRIGERATOR        RESIDENTIAL BUILDING   \n",
      "\n",
      "            incident_zip       incident_address       street_name  ...  \\\n",
      "unique_key                                                         ...   \n",
      "59945453         10460.0    805 FAIRMOUNT PLACE   FAIRMOUNT PLACE  ...   \n",
      "59949590         10462.0  2040 BRONXDALE AVENUE  BRONXDALE AVENUE  ...   \n",
      "59957878         10454.0   640 EAST  137 STREET  EAST  137 STREET  ...   \n",
      "59940883         10456.0       1384 BOSTON ROAD       BOSTON ROAD  ...   \n",
      "59957240         10452.0     1040 GERARD AVENUE     GERARD AVENUE  ...   \n",
      "\n",
      "           taxi_pick_up_location bridge_highway_name bridge_highway_direction  \\\n",
      "unique_key                                                                      \n",
      "59945453                     NaN                 NaN                      NaN   \n",
      "59949590                     NaN                 NaN                      NaN   \n",
      "59957878                     NaN                 NaN                      NaN   \n",
      "59940883                     NaN                 NaN                      NaN   \n",
      "59957240                     NaN                 NaN                      NaN   \n",
      "\n",
      "           road_ramp bridge_highway_segment   latitude  longitude  \\\n",
      "unique_key                                                          \n",
      "59945453         NaN                    NaN  40.842664 -73.888943   \n",
      "59949590         NaN                    NaN  40.850795 -73.866537   \n",
      "59957878         NaN                    NaN  40.805086 -73.915530   \n",
      "59940883         NaN                    NaN  40.832588 -73.898197   \n",
      "59957240         NaN                    NaN  40.831529 -73.922568   \n",
      "\n",
      "                                                   location  \\\n",
      "unique_key                                                    \n",
      "59945453    \\n,  \\n(40.842663807026554, -73.88894325756999)   \n",
      "59949590    \\n,  \\n(40.850794587937656, -73.86653703997725)   \n",
      "59957878    \\n,  \\n(40.805086455448915, -73.91552995791113)   \n",
      "59940883     \\n,  \\n(40.83258827381062, -73.89819654318568)   \n",
      "59957240     \\n,  \\n(40.83152853960675, -73.92256816978937)   \n",
      "\n",
      "                  quarter_start          quarter_end  \n",
      "unique_key                                            \n",
      "59945453    2024-01-01T00:00:00  2024-03-31T23:59:59  \n",
      "59949590    2024-01-01T00:00:00  2024-03-31T23:59:59  \n",
      "59957878    2024-01-01T00:00:00  2024-03-31T23:59:59  \n",
      "59940883    2024-01-01T00:00:00  2024-03-31T23:59:59  \n",
      "59957240    2024-01-01T00:00:00  2024-03-31T23:59:59  \n",
      "\n",
      "[5 rows x 42 columns]\n",
      "\n",
      "=== Median Rent Dataset Sample ===\n",
      "              areaName    Borough   areaType  2010-01  2010-02  2010-03  \\\n",
      "0         All Downtown  Manhattan  submarket   3200.0   3200.0   3015.0   \n",
      "1          All Midtown  Manhattan  submarket   2875.0   2800.0   2800.0   \n",
      "2  All Upper East Side  Manhattan  submarket   2450.0   2450.0   2400.0   \n",
      "3  All Upper Manhattan  Manhattan  submarket   1825.0   1800.0   1795.0   \n",
      "4  All Upper West Side  Manhattan  submarket   2895.0   2800.0   2750.0   \n",
      "\n",
      "   2010-04  2010-05  2010-06  2010-07  ...  2024-11  2024-12  2025-01  \\\n",
      "0   3100.0   3100.0   3200.0   3195.0  ...   4895.0   4900.0   4998.0   \n",
      "1   2850.0   2895.0   2950.0   3000.0  ...   4400.0   4500.0   4504.0   \n",
      "2   2500.0   2565.0   2570.0   2595.0  ...   3950.0   3950.0   3950.0   \n",
      "3   1800.0   1823.0   1850.0   1875.0  ...   2850.0   2850.0   2895.0   \n",
      "4   2800.0   2800.0   2795.0   2800.0  ...   4295.0   4400.0   4432.0   \n",
      "\n",
      "   2025-02  2025-03  2025-04  2025-05  2025-06  2025-07  2025-08  \n",
      "0   5000.0   5000.0   5158.0   5250.0   5300.0   5437.0   5450.0  \n",
      "1   4595.0   4586.0   4683.0   4750.0   4850.0   4875.0   4844.0  \n",
      "2   4000.0   3995.0   4000.0   4156.0   4200.0   4200.0   4250.0  \n",
      "3   2875.0   2900.0   3000.0   3195.0   3236.0   3300.0   3225.0  \n",
      "4   4450.0   4500.0   4500.0   4500.0   4700.0   4800.0   4850.0  \n",
      "\n",
      "[5 rows x 191 columns]\n"
     ]
    }
   ],
   "source": [
    "# Display basic information about the datasets\n",
    "print(\"=== NYC 311 Dataset Sample ===\")\n",
    "print(df_nyc_311.head())\n",
    "print(\"\\n=== Median Rent Dataset Sample ===\")\n",
    "print(df_median_rent.head())"
   ]
  },
  {
   "cell_type": "markdown",
   "id": "abb68680",
   "metadata": {},
   "source": [
    "## 2. Data Cleaning"
   ]
  },
  {
   "cell_type": "markdown",
   "id": "88781af4",
   "metadata": {},
   "source": [
    "### NYC 311 Data - Column Selection and Initial Cleaning"
   ]
  },
  {
   "cell_type": "code",
   "execution_count": 68,
   "id": "72a7a6c3",
   "metadata": {},
   "outputs": [
    {
     "name": "stdout",
     "output_type": "stream",
     "text": [
      "Selected 15 columns from NYC 311 data\n"
     ]
    }
   ],
   "source": [
    "# Select relevant columns for analysis\n",
    "list_of_relevant_columns = ['created_date', 'closed_date', 'complaint_type',\n",
    "                            'descriptor', 'status', 'resolution_description',\n",
    "                            'resolution_action_updated_date', 'borough',\n",
    "                            'community_board', 'incident_zip', \n",
    "                            'incident_address', 'street_name', 'city',\n",
    "                            'latitude', 'longitude']\n",
    "\n",
    "df_nyc_311_selected = df_nyc_311[list_of_relevant_columns].copy()\n",
    "print(f\"Selected {len(list_of_relevant_columns)} columns from NYC 311 data\")"
   ]
  },
  {
   "cell_type": "markdown",
   "id": "46681162",
   "metadata": {},
   "source": [
    "### Median Rent Data - Column Selection"
   ]
  },
  {
   "cell_type": "code",
   "execution_count": 69,
   "id": "034c484b",
   "metadata": {},
   "outputs": [
    {
     "name": "stdout",
     "output_type": "stream",
     "text": [
      "Selected 20 date columns plus 3 info columns from rent data\n"
     ]
    }
   ],
   "source": [
    "# Select relevant date columns (2024-2025) and basic info columns\n",
    "date_columns = [col for col in df_median_rent.columns if col.startswith('2024') or col.startswith('2025')]\n",
    "df_median_rent_selected = df_median_rent[df_median_rent.columns[:3].to_list() + date_columns].copy()\n",
    "print(f\"Selected {len(date_columns)} date columns plus 3 info columns from rent data\")"
   ]
  },
  {
   "cell_type": "markdown",
   "id": "17a9551c",
   "metadata": {},
   "source": [
    "### Missing Values Analysis"
   ]
  },
  {
   "cell_type": "code",
   "execution_count": 70,
   "id": "cc1b7ef5",
   "metadata": {},
   "outputs": [
    {
     "name": "stdout",
     "output_type": "stream",
     "text": [
      "Total number of rows in NYC 311 dataset: 71755\n",
      "\n",
      "Missing values analysis:\n"
     ]
    },
    {
     "data": {
      "application/vnd.microsoft.datawrangler.viewer.v0+json": {
       "columns": [
        {
         "name": "index",
         "rawType": "object",
         "type": "string"
        },
        {
         "name": "Missing_Count",
         "rawType": "int64",
         "type": "integer"
        },
        {
         "name": "Missing_Percentage",
         "rawType": "float64",
         "type": "float"
        }
       ],
       "ref": "7d5bfa07-55c4-4fc8-8715-601449bf9372",
       "rows": [
        [
         "descriptor",
         "3764",
         "5.25"
        ],
        [
         "city",
         "3450",
         "4.81"
        ],
        [
         "street_name",
         "2237",
         "3.12"
        ],
        [
         "incident_address",
         "2235",
         "3.11"
        ],
        [
         "closed_date",
         "2065",
         "2.88"
        ],
        [
         "resolution_description",
         "2019",
         "2.81"
        ],
        [
         "latitude",
         "1055",
         "1.47"
        ],
        [
         "longitude",
         "1055",
         "1.47"
        ],
        [
         "resolution_action_updated_date",
         "919",
         "1.28"
        ],
        [
         "incident_zip",
         "603",
         "0.84"
        ]
       ],
       "shape": {
        "columns": 2,
        "rows": 10
       }
      },
      "text/html": [
       "<div>\n",
       "<style scoped>\n",
       "    .dataframe tbody tr th:only-of-type {\n",
       "        vertical-align: middle;\n",
       "    }\n",
       "\n",
       "    .dataframe tbody tr th {\n",
       "        vertical-align: top;\n",
       "    }\n",
       "\n",
       "    .dataframe thead th {\n",
       "        text-align: right;\n",
       "    }\n",
       "</style>\n",
       "<table border=\"1\" class=\"dataframe\">\n",
       "  <thead>\n",
       "    <tr style=\"text-align: right;\">\n",
       "      <th></th>\n",
       "      <th>Missing_Count</th>\n",
       "      <th>Missing_Percentage</th>\n",
       "    </tr>\n",
       "  </thead>\n",
       "  <tbody>\n",
       "    <tr>\n",
       "      <th>descriptor</th>\n",
       "      <td>3764</td>\n",
       "      <td>5.25</td>\n",
       "    </tr>\n",
       "    <tr>\n",
       "      <th>city</th>\n",
       "      <td>3450</td>\n",
       "      <td>4.81</td>\n",
       "    </tr>\n",
       "    <tr>\n",
       "      <th>street_name</th>\n",
       "      <td>2237</td>\n",
       "      <td>3.12</td>\n",
       "    </tr>\n",
       "    <tr>\n",
       "      <th>incident_address</th>\n",
       "      <td>2235</td>\n",
       "      <td>3.11</td>\n",
       "    </tr>\n",
       "    <tr>\n",
       "      <th>closed_date</th>\n",
       "      <td>2065</td>\n",
       "      <td>2.88</td>\n",
       "    </tr>\n",
       "    <tr>\n",
       "      <th>resolution_description</th>\n",
       "      <td>2019</td>\n",
       "      <td>2.81</td>\n",
       "    </tr>\n",
       "    <tr>\n",
       "      <th>latitude</th>\n",
       "      <td>1055</td>\n",
       "      <td>1.47</td>\n",
       "    </tr>\n",
       "    <tr>\n",
       "      <th>longitude</th>\n",
       "      <td>1055</td>\n",
       "      <td>1.47</td>\n",
       "    </tr>\n",
       "    <tr>\n",
       "      <th>resolution_action_updated_date</th>\n",
       "      <td>919</td>\n",
       "      <td>1.28</td>\n",
       "    </tr>\n",
       "    <tr>\n",
       "      <th>incident_zip</th>\n",
       "      <td>603</td>\n",
       "      <td>0.84</td>\n",
       "    </tr>\n",
       "  </tbody>\n",
       "</table>\n",
       "</div>"
      ],
      "text/plain": [
       "                                Missing_Count  Missing_Percentage\n",
       "descriptor                               3764                5.25\n",
       "city                                     3450                4.81\n",
       "street_name                              2237                3.12\n",
       "incident_address                         2235                3.11\n",
       "closed_date                              2065                2.88\n",
       "resolution_description                   2019                2.81\n",
       "latitude                                 1055                1.47\n",
       "longitude                                1055                1.47\n",
       "resolution_action_updated_date            919                1.28\n",
       "incident_zip                              603                0.84"
      ]
     },
     "execution_count": 70,
     "metadata": {},
     "output_type": "execute_result"
    }
   ],
   "source": [
    "# Analyze missing values in NYC 311 data\n",
    "missing_values = df_nyc_311_selected.isna().sum().sort_values(ascending=False)\n",
    "missing_percentage = (df_nyc_311_selected.isna().sum() / len(df_nyc_311_selected) * 100).sort_values(ascending=False)\n",
    "\n",
    "missing_data = pd.DataFrame({\n",
    "    'Missing_Count': missing_values,\n",
    "    'Missing_Percentage': missing_percentage\n",
    "})\n",
    "\n",
    "# Only show columns with missing values\n",
    "missing_data = missing_data[missing_data['Missing_Count'] > 0]\n",
    "\n",
    "print(f\"Total number of rows in NYC 311 dataset: {len(df_nyc_311_selected)}\")\n",
    "print(\"\\nMissing values analysis:\")\n",
    "missing_data.round(2)"
   ]
  },
  {
   "cell_type": "code",
   "execution_count": 71,
   "id": "bb6fde03",
   "metadata": {},
   "outputs": [
    {
     "name": "stdout",
     "output_type": "stream",
     "text": [
      "Total number of rows in rent dataset: 198\n",
      "\n",
      "Missing values analysis for rent data:\n"
     ]
    },
    {
     "data": {
      "application/vnd.microsoft.datawrangler.viewer.v0+json": {
       "columns": [
        {
         "name": "index",
         "rawType": "object",
         "type": "string"
        },
        {
         "name": "Missing_Count",
         "rawType": "int64",
         "type": "integer"
        },
        {
         "name": "Missing_Percentage",
         "rawType": "float64",
         "type": "float"
        }
       ],
       "ref": "43fc1e93-9590-49c9-90cc-b2dbe5b019fb",
       "rows": [
        [
         "2024-09",
         "62",
         "31.31"
        ],
        [
         "2025-08",
         "62",
         "31.31"
        ],
        [
         "2024-06",
         "61",
         "30.81"
        ],
        [
         "2024-10",
         "59",
         "29.8"
        ],
        [
         "2024-07",
         "59",
         "29.8"
        ],
        [
         "2024-02",
         "58",
         "29.29"
        ],
        [
         "2025-03",
         "58",
         "29.29"
        ],
        [
         "2024-04",
         "58",
         "29.29"
        ],
        [
         "2025-01",
         "58",
         "29.29"
        ],
        [
         "2025-07",
         "58",
         "29.29"
        ],
        [
         "2024-01",
         "58",
         "29.29"
        ],
        [
         "2024-12",
         "57",
         "28.79"
        ],
        [
         "2025-02",
         "57",
         "28.79"
        ],
        [
         "2025-06",
         "57",
         "28.79"
        ],
        [
         "2024-11",
         "57",
         "28.79"
        ],
        [
         "2024-08",
         "57",
         "28.79"
        ],
        [
         "2024-05",
         "57",
         "28.79"
        ],
        [
         "2025-04",
         "53",
         "26.77"
        ],
        [
         "2024-03",
         "51",
         "25.76"
        ],
        [
         "2025-05",
         "51",
         "25.76"
        ],
        [
         "Borough",
         "1",
         "0.51"
        ]
       ],
       "shape": {
        "columns": 2,
        "rows": 21
       }
      },
      "text/html": [
       "<div>\n",
       "<style scoped>\n",
       "    .dataframe tbody tr th:only-of-type {\n",
       "        vertical-align: middle;\n",
       "    }\n",
       "\n",
       "    .dataframe tbody tr th {\n",
       "        vertical-align: top;\n",
       "    }\n",
       "\n",
       "    .dataframe thead th {\n",
       "        text-align: right;\n",
       "    }\n",
       "</style>\n",
       "<table border=\"1\" class=\"dataframe\">\n",
       "  <thead>\n",
       "    <tr style=\"text-align: right;\">\n",
       "      <th></th>\n",
       "      <th>Missing_Count</th>\n",
       "      <th>Missing_Percentage</th>\n",
       "    </tr>\n",
       "  </thead>\n",
       "  <tbody>\n",
       "    <tr>\n",
       "      <th>2024-09</th>\n",
       "      <td>62</td>\n",
       "      <td>31.31</td>\n",
       "    </tr>\n",
       "    <tr>\n",
       "      <th>2025-08</th>\n",
       "      <td>62</td>\n",
       "      <td>31.31</td>\n",
       "    </tr>\n",
       "    <tr>\n",
       "      <th>2024-06</th>\n",
       "      <td>61</td>\n",
       "      <td>30.81</td>\n",
       "    </tr>\n",
       "    <tr>\n",
       "      <th>2024-10</th>\n",
       "      <td>59</td>\n",
       "      <td>29.80</td>\n",
       "    </tr>\n",
       "    <tr>\n",
       "      <th>2024-07</th>\n",
       "      <td>59</td>\n",
       "      <td>29.80</td>\n",
       "    </tr>\n",
       "    <tr>\n",
       "      <th>2024-02</th>\n",
       "      <td>58</td>\n",
       "      <td>29.29</td>\n",
       "    </tr>\n",
       "    <tr>\n",
       "      <th>2025-03</th>\n",
       "      <td>58</td>\n",
       "      <td>29.29</td>\n",
       "    </tr>\n",
       "    <tr>\n",
       "      <th>2024-04</th>\n",
       "      <td>58</td>\n",
       "      <td>29.29</td>\n",
       "    </tr>\n",
       "    <tr>\n",
       "      <th>2025-01</th>\n",
       "      <td>58</td>\n",
       "      <td>29.29</td>\n",
       "    </tr>\n",
       "    <tr>\n",
       "      <th>2025-07</th>\n",
       "      <td>58</td>\n",
       "      <td>29.29</td>\n",
       "    </tr>\n",
       "    <tr>\n",
       "      <th>2024-01</th>\n",
       "      <td>58</td>\n",
       "      <td>29.29</td>\n",
       "    </tr>\n",
       "    <tr>\n",
       "      <th>2024-12</th>\n",
       "      <td>57</td>\n",
       "      <td>28.79</td>\n",
       "    </tr>\n",
       "    <tr>\n",
       "      <th>2025-02</th>\n",
       "      <td>57</td>\n",
       "      <td>28.79</td>\n",
       "    </tr>\n",
       "    <tr>\n",
       "      <th>2025-06</th>\n",
       "      <td>57</td>\n",
       "      <td>28.79</td>\n",
       "    </tr>\n",
       "    <tr>\n",
       "      <th>2024-11</th>\n",
       "      <td>57</td>\n",
       "      <td>28.79</td>\n",
       "    </tr>\n",
       "    <tr>\n",
       "      <th>2024-08</th>\n",
       "      <td>57</td>\n",
       "      <td>28.79</td>\n",
       "    </tr>\n",
       "    <tr>\n",
       "      <th>2024-05</th>\n",
       "      <td>57</td>\n",
       "      <td>28.79</td>\n",
       "    </tr>\n",
       "    <tr>\n",
       "      <th>2025-04</th>\n",
       "      <td>53</td>\n",
       "      <td>26.77</td>\n",
       "    </tr>\n",
       "    <tr>\n",
       "      <th>2024-03</th>\n",
       "      <td>51</td>\n",
       "      <td>25.76</td>\n",
       "    </tr>\n",
       "    <tr>\n",
       "      <th>2025-05</th>\n",
       "      <td>51</td>\n",
       "      <td>25.76</td>\n",
       "    </tr>\n",
       "    <tr>\n",
       "      <th>Borough</th>\n",
       "      <td>1</td>\n",
       "      <td>0.51</td>\n",
       "    </tr>\n",
       "  </tbody>\n",
       "</table>\n",
       "</div>"
      ],
      "text/plain": [
       "         Missing_Count  Missing_Percentage\n",
       "2024-09             62               31.31\n",
       "2025-08             62               31.31\n",
       "2024-06             61               30.81\n",
       "2024-10             59               29.80\n",
       "2024-07             59               29.80\n",
       "2024-02             58               29.29\n",
       "2025-03             58               29.29\n",
       "2024-04             58               29.29\n",
       "2025-01             58               29.29\n",
       "2025-07             58               29.29\n",
       "2024-01             58               29.29\n",
       "2024-12             57               28.79\n",
       "2025-02             57               28.79\n",
       "2025-06             57               28.79\n",
       "2024-11             57               28.79\n",
       "2024-08             57               28.79\n",
       "2024-05             57               28.79\n",
       "2025-04             53               26.77\n",
       "2024-03             51               25.76\n",
       "2025-05             51               25.76\n",
       "Borough              1                0.51"
      ]
     },
     "execution_count": 71,
     "metadata": {},
     "output_type": "execute_result"
    }
   ],
   "source": [
    "# Analyze missing values in rent data\n",
    "missing_values_rent = df_median_rent_selected.isna().sum().sort_values(ascending=False)\n",
    "missing_percentage_rent = (df_median_rent_selected.isna().sum() / len(df_median_rent_selected) * 100).sort_values(ascending=False)\n",
    "\n",
    "missing_data_rent = pd.DataFrame({\n",
    "    'Missing_Count': missing_values_rent,\n",
    "    'Missing_Percentage': missing_percentage_rent\n",
    "})\n",
    "\n",
    "missing_data_rent = missing_data_rent[missing_data_rent['Missing_Count'] > 0]\n",
    "\n",
    "print(f\"Total number of rows in rent dataset: {len(df_median_rent_selected)}\")\n",
    "print(\"\\nMissing values analysis for rent data:\")\n",
    "missing_data_rent.round(2)"
   ]
  },
  {
   "cell_type": "markdown",
   "id": "68682b33",
   "metadata": {},
   "source": [
    "### Duplicate Removal"
   ]
  },
  {
   "cell_type": "code",
   "execution_count": 72,
   "id": "ceee9018",
   "metadata": {},
   "outputs": [
    {
     "name": "stdout",
     "output_type": "stream",
     "text": [
      "Duplicate rows in rent data: 0\n",
      "Duplicate rows in 311 data: 168\n",
      "Duplicate rows in 311 data: 168\n",
      "Removed 168 duplicate rows from NYC 311 data\n",
      "New shape: (71587, 15)\n",
      "Removed 168 duplicate rows from NYC 311 data\n",
      "New shape: (71587, 15)\n"
     ]
    }
   ],
   "source": [
    "# Check and remove duplicate rows\n",
    "print(f\"Duplicate rows in rent data: {df_median_rent_selected.duplicated().sum()}\")\n",
    "print(f\"Duplicate rows in 311 data: {df_nyc_311_selected.duplicated().sum()}\")\n",
    "\n",
    "# Remove duplicates from NYC 311 data\n",
    "original_shape = df_nyc_311_selected.shape\n",
    "df_nyc_311_selected = df_nyc_311_selected.drop_duplicates()\n",
    "print(f\"Removed {original_shape[0] - df_nyc_311_selected.shape[0]} duplicate rows from NYC 311 data\")\n",
    "print(f\"New shape: {df_nyc_311_selected.shape}\")"
   ]
  },
  {
   "cell_type": "markdown",
   "id": "a401a7af",
   "metadata": {},
   "source": [
    "### Date Data Cleaning"
   ]
  },
  {
   "cell_type": "code",
   "execution_count": 73,
   "id": "878c2845",
   "metadata": {},
   "outputs": [
    {
     "name": "stdout",
     "output_type": "stream",
     "text": [
      "Number of rows with created_date > closed_date (will be removed): 21\n",
      "Final NYC 311 data shape after date cleaning: (71566, 15)\n"
     ]
    }
   ],
   "source": [
    "# Convert date columns to datetime format\n",
    "df_nyc_311_selected['created_date'] = pd.to_datetime(df_nyc_311_selected['created_date'], errors='coerce')\n",
    "df_nyc_311_selected['closed_date'] = pd.to_datetime(df_nyc_311_selected['closed_date'], errors='coerce')\n",
    "df_nyc_311_selected['resolution_action_updated_date'] = pd.to_datetime(df_nyc_311_selected['resolution_action_updated_date'], errors='coerce')\n",
    "\n",
    "# Remove invalid date records (created_date > closed_date)\n",
    "invalid_dates = df_nyc_311_selected[df_nyc_311_selected['created_date'] > df_nyc_311_selected['closed_date']]\n",
    "print(f\"Number of rows with created_date > closed_date (will be removed): {invalid_dates.shape[0]}\")\n",
    "\n",
    "df_nyc_311_selected = df_nyc_311_selected[\n",
    "    (df_nyc_311_selected['created_date'] <= df_nyc_311_selected['closed_date']) | \n",
    "    (df_nyc_311_selected['closed_date'].isna())\n",
    "]\n",
    "\n",
    "print(f\"Final NYC 311 data shape after date cleaning: {df_nyc_311_selected.shape}\")"
   ]
  },
  {
   "cell_type": "markdown",
   "id": "e50ee0ef",
   "metadata": {},
   "source": [
    "### Geographic Data Cleaning"
   ]
  },
  {
   "cell_type": "code",
   "execution_count": 74,
   "id": "e8cb07ce",
   "metadata": {},
   "outputs": [
    {
     "name": "stdout",
     "output_type": "stream",
     "text": [
      "City names standardized\n",
      "Unique cities after cleaning: 45\n"
     ]
    }
   ],
   "source": [
    "# Standardize city names: trim whitespace and convert to uppercase\n",
    "df_nyc_311_selected['city'] = df_nyc_311_selected['city'].str.strip().str.upper()\n",
    "\n",
    "# Replace known outside NYC locations with 'OUTSIDE NYC'\n",
    "outside_nyc_locations = ['FLORAL PARK', 'NEW HYDE PARK', 'BREEZY POINT']\n",
    "df_nyc_311_selected['city'] = df_nyc_311_selected['city'].replace(outside_nyc_locations, 'OUTSIDE NYC')\n",
    "\n",
    "print(\"City names standardized\")\n",
    "print(f\"Unique cities after cleaning: {df_nyc_311_selected['city'].nunique()}\")"
   ]
  },
  {
   "cell_type": "markdown",
   "id": "e890298c",
   "metadata": {},
   "source": [
    "## 3. Data Transformation"
   ]
  },
  {
   "cell_type": "markdown",
   "id": "dcc23147",
   "metadata": {},
   "source": [
    "### Feature Engineering - NYC 311 Data"
   ]
  },
  {
   "cell_type": "code",
   "execution_count": 75,
   "id": "abb4ff7a",
   "metadata": {},
   "outputs": [
    {
     "name": "stdout",
     "output_type": "stream",
     "text": [
      "Created new features: resolution_time_hours, month, year\n",
      "Resolution time statistics:\n",
      "count    69507.000000\n",
      "mean       219.524183\n",
      "std        886.413518\n",
      "min          0.000000\n",
      "25%          0.857500\n",
      "50%          4.824444\n",
      "75%         52.773194\n",
      "max      15091.083889\n",
      "Name: resolution_time_hours, dtype: float64\n"
     ]
    }
   ],
   "source": [
    "# Calculate resolution time in hours\n",
    "df_nyc_311_selected['resolution_time_hours'] = (\n",
    "    df_nyc_311_selected['closed_date'] - df_nyc_311_selected['created_date']\n",
    ").dt.total_seconds() / 3600\n",
    "\n",
    "# Extract month and year from created_date\n",
    "df_nyc_311_selected['month'] = df_nyc_311_selected['created_date'].dt.month\n",
    "df_nyc_311_selected['year'] = df_nyc_311_selected['created_date'].dt.year\n",
    "\n",
    "print(\"Created new features: resolution_time_hours, month, year\")\n",
    "print(f\"Resolution time statistics:\")\n",
    "print(df_nyc_311_selected['resolution_time_hours'].describe())"
   ]
  },
  {
   "cell_type": "markdown",
   "id": "f3ecf80f",
   "metadata": {},
   "source": [
    "### Geographic Mapping - ZIP to Neighborhood"
   ]
  },
  {
   "cell_type": "code",
   "execution_count": 76,
   "id": "fd18b2b6",
   "metadata": {},
   "outputs": [
    {
     "name": "stdout",
     "output_type": "stream",
     "text": [
      "Created mapping for 176 ZIP codes to neighborhoods\n"
     ]
    }
   ],
   "source": [
    "# Create ZIP code to neighborhood mapping dictionary\n",
    "zip_to_neighborhood = {}\n",
    "\n",
    "for borough, neighborhoods in uhf_data.items():\n",
    "    for neighborhood_info in neighborhoods:\n",
    "        neighborhood_name = neighborhood_info['neighborhood']\n",
    "        zip_codes = neighborhood_info['zip_codes']\n",
    "        \n",
    "        for zip_code in zip_codes:\n",
    "            zip_to_neighborhood[zip_code] = neighborhood_name\n",
    "\n",
    "print(f\"Created mapping for {len(zip_to_neighborhood)} ZIP codes to neighborhoods\")"
   ]
  },
  {
   "cell_type": "code",
   "execution_count": 77,
   "id": "61705298",
   "metadata": {},
   "outputs": [
    {
     "name": "stdout",
     "output_type": "stream",
     "text": [
      "Neighborhood mapping results:\n",
      "Records with neighborhood: 70,130\n",
      "Records without neighborhood: 1,436\n",
      "Coverage percentage: 97.99%\n"
     ]
    }
   ],
   "source": [
    "# Map ZIP codes to neighborhoods for NYC 311 data\n",
    "df_nyc_311_selected['incident_zip_str'] = (\n",
    "    df_nyc_311_selected['incident_zip'].fillna(0).astype(int).astype(str).str.zfill(5)\n",
    ")\n",
    "df_nyc_311_selected.loc[df_nyc_311_selected['incident_zip'].isna(), 'incident_zip_str'] = None\n",
    "\n",
    "df_nyc_311_selected['neighborhood'] = df_nyc_311_selected['incident_zip_str'].map(zip_to_neighborhood)\n",
    "\n",
    "# Report mapping results\n",
    "mapped_records = df_nyc_311_selected['neighborhood'].notna().sum()\n",
    "total_records = len(df_nyc_311_selected)\n",
    "coverage_percentage = (mapped_records / total_records * 100)\n",
    "\n",
    "print(f\"Neighborhood mapping results:\")\n",
    "print(f\"Records with neighborhood: {mapped_records:,}\")\n",
    "print(f\"Records without neighborhood: {total_records - mapped_records:,}\")\n",
    "print(f\"Coverage percentage: {coverage_percentage:.2f}%\")\n",
    "\n",
    "# Clean up temporary column\n",
    "df_nyc_311_selected = df_nyc_311_selected.drop('incident_zip_str', axis=1)"
   ]
  },
  {
   "cell_type": "markdown",
   "id": "12003530",
   "metadata": {},
   "source": [
    "### Geographic Mapping - Rent Data"
   ]
  },
  {
   "cell_type": "code",
   "execution_count": 78,
   "id": "5a3eb44e",
   "metadata": {},
   "outputs": [
    {
     "name": "stdout",
     "output_type": "stream",
     "text": [
      "Rent data neighborhood mapping results:\n",
      "Records with neighborhood: 138\n",
      "Records without neighborhood: 60\n",
      "Coverage percentage: 69.70%\n"
     ]
    }
   ],
   "source": [
    "# Map area names to neighborhoods for rent data\n",
    "df_median_rent_selected['neighborhood'] = df_median_rent_selected['areaName'].str.lower().map(manual_map)\n",
    "\n",
    "# Report mapping results for rent data\n",
    "mapped_rent_records = df_median_rent_selected['neighborhood'].notna().sum()\n",
    "total_rent_records = len(df_median_rent_selected)\n",
    "\n",
    "print(f\"Rent data neighborhood mapping results:\")\n",
    "print(f\"Records with neighborhood: {mapped_rent_records}\")\n",
    "print(f\"Records without neighborhood: {total_rent_records - mapped_rent_records}\")\n",
    "print(f\"Coverage percentage: {(mapped_rent_records / total_rent_records * 100):.2f}%\")"
   ]
  },
  {
   "cell_type": "markdown",
   "id": "2c9ffe9a",
   "metadata": {},
   "source": [
    "### Data Aggregation - NYC 311 Complaints"
   ]
  },
  {
   "cell_type": "code",
   "execution_count": 79,
   "id": "b989bfeb",
   "metadata": {},
   "outputs": [
    {
     "name": "stdout",
     "output_type": "stream",
     "text": [
      "Aggregated complaints data shape: (13062, 6)\n",
      "Unique neighborhoods in complaints: 42\n"
     ]
    }
   ],
   "source": [
    "# Aggregate complaints by neighborhood, complaint type, year, and month\n",
    "complaints_by_neighborhood = df_nyc_311_selected.groupby(\n",
    "    ['neighborhood', 'complaint_type', 'year', 'month']\n",
    ").agg({\n",
    "    'resolution_time_hours': ['count', 'median']\n",
    "}).reset_index()\n",
    "\n",
    "# Flatten column names\n",
    "complaints_by_neighborhood.columns = [\n",
    "    'neighborhood', 'complaint_type', 'year', 'month', \n",
    "    'complaint_count', 'median_resolution_time_hours'\n",
    "]\n",
    "\n",
    "# Sort by neighborhood, year, month, and complaint count\n",
    "complaints_by_neighborhood = complaints_by_neighborhood.sort_values(\n",
    "    by=['neighborhood', 'year', 'month', 'complaint_count'], \n",
    "    ascending=[True, True, True, False]\n",
    ")\n",
    "\n",
    "print(f\"Aggregated complaints data shape: {complaints_by_neighborhood.shape}\")\n",
    "print(f\"Unique neighborhoods in complaints: {complaints_by_neighborhood['neighborhood'].nunique()}\")"
   ]
  },
  {
   "cell_type": "markdown",
   "id": "e553747f",
   "metadata": {},
   "source": [
    "### Data Aggregation - Rent Data"
   ]
  },
  {
   "cell_type": "code",
   "execution_count": 80,
   "id": "057fb193",
   "metadata": {},
   "outputs": [
    {
     "name": "stdout",
     "output_type": "stream",
     "text": [
      "Aggregated rent data shape: (38, 20)\n",
      "Unique neighborhoods in rent data: 38\n"
     ]
    }
   ],
   "source": [
    "# Aggregate rent data by neighborhood (median across all areas in same neighborhood)\n",
    "date_columns = [col for col in df_median_rent_selected.columns if col.startswith('2024') or col.startswith('2025')]\n",
    "median_rent_by_neighborhood = df_median_rent_selected.groupby('neighborhood')[date_columns].median()\n",
    "\n",
    "print(f\"Aggregated rent data shape: {median_rent_by_neighborhood.shape}\")\n",
    "print(f\"Unique neighborhoods in rent data: {median_rent_by_neighborhood.index.nunique()}\")"
   ]
  },
  {
   "cell_type": "markdown",
   "id": "3a3ce3f2",
   "metadata": {},
   "source": [
    "### Reshape Rent Data"
   ]
  },
  {
   "cell_type": "code",
   "execution_count": 81,
   "id": "5c7f1927",
   "metadata": {},
   "outputs": [
    {
     "name": "stdout",
     "output_type": "stream",
     "text": [
      "Reshaped rent data shape: (760, 5)\n",
      "Sample of reshaped rent data:\n"
     ]
    },
    {
     "data": {
      "application/vnd.microsoft.datawrangler.viewer.v0+json": {
       "columns": [
        {
         "name": "index",
         "rawType": "int64",
         "type": "integer"
        },
        {
         "name": "neighborhood",
         "rawType": "object",
         "type": "string"
        },
        {
         "name": "date",
         "rawType": "datetime64[ns]",
         "type": "datetime"
        },
        {
         "name": "median_rent",
         "rawType": "float64",
         "type": "float"
        },
        {
         "name": "year",
         "rawType": "int32",
         "type": "integer"
        },
        {
         "name": "month",
         "rawType": "int32",
         "type": "integer"
        }
       ],
       "ref": "c55b65bc-41c0-4e4e-970b-ab3e87c762df",
       "rows": [
        [
         "0",
         "Bayside - Little Neck",
         "2024-01-01 00:00:00",
         "2473.0",
         "2024",
         "1"
        ],
        [
         "1",
         "Bedford Stuyvesant - Crown Heights",
         "2024-01-01 00:00:00",
         "3000.0",
         "2024",
         "1"
        ],
        [
         "2",
         "Bensonhurst - Bay Ridge",
         "2024-01-01 00:00:00",
         "2137.5",
         "2024",
         "1"
        ],
        [
         "3",
         "Borough Park",
         "2024-01-01 00:00:00",
         "2275.0",
         "2024",
         "1"
        ],
        [
         "4",
         "Canarsie - Flatlands",
         "2024-01-01 00:00:00",
         "2625.0",
         "2024",
         "1"
        ]
       ],
       "shape": {
        "columns": 5,
        "rows": 5
       }
      },
      "text/html": [
       "<div>\n",
       "<style scoped>\n",
       "    .dataframe tbody tr th:only-of-type {\n",
       "        vertical-align: middle;\n",
       "    }\n",
       "\n",
       "    .dataframe tbody tr th {\n",
       "        vertical-align: top;\n",
       "    }\n",
       "\n",
       "    .dataframe thead th {\n",
       "        text-align: right;\n",
       "    }\n",
       "</style>\n",
       "<table border=\"1\" class=\"dataframe\">\n",
       "  <thead>\n",
       "    <tr style=\"text-align: right;\">\n",
       "      <th></th>\n",
       "      <th>neighborhood</th>\n",
       "      <th>date</th>\n",
       "      <th>median_rent</th>\n",
       "      <th>year</th>\n",
       "      <th>month</th>\n",
       "    </tr>\n",
       "  </thead>\n",
       "  <tbody>\n",
       "    <tr>\n",
       "      <th>0</th>\n",
       "      <td>Bayside - Little Neck</td>\n",
       "      <td>2024-01-01</td>\n",
       "      <td>2473.0</td>\n",
       "      <td>2024</td>\n",
       "      <td>1</td>\n",
       "    </tr>\n",
       "    <tr>\n",
       "      <th>1</th>\n",
       "      <td>Bedford Stuyvesant - Crown Heights</td>\n",
       "      <td>2024-01-01</td>\n",
       "      <td>3000.0</td>\n",
       "      <td>2024</td>\n",
       "      <td>1</td>\n",
       "    </tr>\n",
       "    <tr>\n",
       "      <th>2</th>\n",
       "      <td>Bensonhurst - Bay Ridge</td>\n",
       "      <td>2024-01-01</td>\n",
       "      <td>2137.5</td>\n",
       "      <td>2024</td>\n",
       "      <td>1</td>\n",
       "    </tr>\n",
       "    <tr>\n",
       "      <th>3</th>\n",
       "      <td>Borough Park</td>\n",
       "      <td>2024-01-01</td>\n",
       "      <td>2275.0</td>\n",
       "      <td>2024</td>\n",
       "      <td>1</td>\n",
       "    </tr>\n",
       "    <tr>\n",
       "      <th>4</th>\n",
       "      <td>Canarsie - Flatlands</td>\n",
       "      <td>2024-01-01</td>\n",
       "      <td>2625.0</td>\n",
       "      <td>2024</td>\n",
       "      <td>1</td>\n",
       "    </tr>\n",
       "  </tbody>\n",
       "</table>\n",
       "</div>"
      ],
      "text/plain": [
       "                         neighborhood       date  median_rent  year  month\n",
       "0               Bayside - Little Neck 2024-01-01       2473.0  2024      1\n",
       "1  Bedford Stuyvesant - Crown Heights 2024-01-01       3000.0  2024      1\n",
       "2             Bensonhurst - Bay Ridge 2024-01-01       2137.5  2024      1\n",
       "3                        Borough Park 2024-01-01       2275.0  2024      1\n",
       "4                Canarsie - Flatlands 2024-01-01       2625.0  2024      1"
      ]
     },
     "execution_count": 81,
     "metadata": {},
     "output_type": "execute_result"
    }
   ],
   "source": [
    "# Reshape rent data from wide to long format\n",
    "rent_melted = median_rent_by_neighborhood.reset_index().melt(\n",
    "    id_vars='neighborhood', \n",
    "    var_name='date', \n",
    "    value_name='median_rent'\n",
    ")\n",
    "\n",
    "# Convert date column and extract year/month\n",
    "rent_melted['date'] = pd.to_datetime(rent_melted['date'])\n",
    "rent_melted['year'] = rent_melted['date'].dt.year\n",
    "rent_melted['month'] = rent_melted['date'].dt.month\n",
    "\n",
    "print(f\"Reshaped rent data shape: {rent_melted.shape}\")\n",
    "print(\"Sample of reshaped rent data:\")\n",
    "rent_melted.head()"
   ]
  },
  {
   "cell_type": "markdown",
   "id": "2bfae5a8",
   "metadata": {},
   "source": [
    "## 4. Data Integration"
   ]
  },
  {
   "cell_type": "markdown",
   "id": "106a131d",
   "metadata": {},
   "source": [
    "### Merge Complaints and Rent Data"
   ]
  },
  {
   "cell_type": "code",
   "execution_count": 82,
   "id": "8cbb2276",
   "metadata": {},
   "outputs": [
    {
     "name": "stdout",
     "output_type": "stream",
     "text": [
      "Final merged dataset shape: (13062, 7)\n",
      "Records with rent data: 11576\n",
      "Records without rent data: 1486\n",
      "\n",
      "Sample of merged data:\n"
     ]
    },
    {
     "data": {
      "application/vnd.microsoft.datawrangler.viewer.v0+json": {
       "columns": [
        {
         "name": "index",
         "rawType": "int64",
         "type": "integer"
        },
        {
         "name": "neighborhood",
         "rawType": "object",
         "type": "string"
        },
        {
         "name": "complaint_type",
         "rawType": "object",
         "type": "string"
        },
        {
         "name": "year",
         "rawType": "int32",
         "type": "integer"
        },
        {
         "name": "month",
         "rawType": "int32",
         "type": "integer"
        },
        {
         "name": "complaint_count",
         "rawType": "int64",
         "type": "integer"
        },
        {
         "name": "median_resolution_time_hours",
         "rawType": "float64",
         "type": "float"
        },
        {
         "name": "median_rent",
         "rawType": "float64",
         "type": "float"
        }
       ],
       "ref": "a7da58a9-c2b1-4ffa-9546-10542608f3e4",
       "rows": [
        [
         "0",
         "Bayside - Little Neck",
         "Illegal Parking",
         "2024",
         "1",
         "7",
         "1.9858333333333333",
         "2473.0"
        ],
        [
         "1",
         "Bayside - Little Neck",
         "Abandoned Vehicle",
         "2024",
         "1",
         "3",
         "2.4658333333333333",
         "2473.0"
        ],
        [
         "2",
         "Bayside - Little Neck",
         "Building/Use",
         "2024",
         "1",
         "2",
         "886.5840277777778",
         "2473.0"
        ],
        [
         "3",
         "Bayside - Little Neck",
         "APPLIANCE",
         "2024",
         "1",
         "1",
         "260.41527777777776",
         "2473.0"
        ],
        [
         "4",
         "Bayside - Little Neck",
         "Bike/Roller/Skate Chronic",
         "2024",
         "1",
         "1",
         "0.14583333333333334",
         "2473.0"
        ],
        [
         "5",
         "Bayside - Little Neck",
         "Blocked Driveway",
         "2024",
         "1",
         "1",
         "0.5988888888888889",
         "2473.0"
        ],
        [
         "6",
         "Bayside - Little Neck",
         "Commercial Disposal Complaint",
         "2024",
         "1",
         "1",
         "172.53055555555557",
         "2473.0"
        ],
        [
         "7",
         "Bayside - Little Neck",
         "Damaged Tree",
         "2024",
         "1",
         "1",
         "638.2016666666667",
         "2473.0"
        ],
        [
         "8",
         "Bayside - Little Neck",
         "General Construction/Plumbing",
         "2024",
         "1",
         "1",
         "0.0",
         "2473.0"
        ],
        [
         "9",
         "Bayside - Little Neck",
         "HEAT/HOT WATER",
         "2024",
         "1",
         "1",
         "47.84",
         "2473.0"
        ]
       ],
       "shape": {
        "columns": 7,
        "rows": 10
       }
      },
      "text/html": [
       "<div>\n",
       "<style scoped>\n",
       "    .dataframe tbody tr th:only-of-type {\n",
       "        vertical-align: middle;\n",
       "    }\n",
       "\n",
       "    .dataframe tbody tr th {\n",
       "        vertical-align: top;\n",
       "    }\n",
       "\n",
       "    .dataframe thead th {\n",
       "        text-align: right;\n",
       "    }\n",
       "</style>\n",
       "<table border=\"1\" class=\"dataframe\">\n",
       "  <thead>\n",
       "    <tr style=\"text-align: right;\">\n",
       "      <th></th>\n",
       "      <th>neighborhood</th>\n",
       "      <th>complaint_type</th>\n",
       "      <th>year</th>\n",
       "      <th>month</th>\n",
       "      <th>complaint_count</th>\n",
       "      <th>median_resolution_time_hours</th>\n",
       "      <th>median_rent</th>\n",
       "    </tr>\n",
       "  </thead>\n",
       "  <tbody>\n",
       "    <tr>\n",
       "      <th>0</th>\n",
       "      <td>Bayside - Little Neck</td>\n",
       "      <td>Illegal Parking</td>\n",
       "      <td>2024</td>\n",
       "      <td>1</td>\n",
       "      <td>7</td>\n",
       "      <td>1.985833</td>\n",
       "      <td>2473.0</td>\n",
       "    </tr>\n",
       "    <tr>\n",
       "      <th>1</th>\n",
       "      <td>Bayside - Little Neck</td>\n",
       "      <td>Abandoned Vehicle</td>\n",
       "      <td>2024</td>\n",
       "      <td>1</td>\n",
       "      <td>3</td>\n",
       "      <td>2.465833</td>\n",
       "      <td>2473.0</td>\n",
       "    </tr>\n",
       "    <tr>\n",
       "      <th>2</th>\n",
       "      <td>Bayside - Little Neck</td>\n",
       "      <td>Building/Use</td>\n",
       "      <td>2024</td>\n",
       "      <td>1</td>\n",
       "      <td>2</td>\n",
       "      <td>886.584028</td>\n",
       "      <td>2473.0</td>\n",
       "    </tr>\n",
       "    <tr>\n",
       "      <th>3</th>\n",
       "      <td>Bayside - Little Neck</td>\n",
       "      <td>APPLIANCE</td>\n",
       "      <td>2024</td>\n",
       "      <td>1</td>\n",
       "      <td>1</td>\n",
       "      <td>260.415278</td>\n",
       "      <td>2473.0</td>\n",
       "    </tr>\n",
       "    <tr>\n",
       "      <th>4</th>\n",
       "      <td>Bayside - Little Neck</td>\n",
       "      <td>Bike/Roller/Skate Chronic</td>\n",
       "      <td>2024</td>\n",
       "      <td>1</td>\n",
       "      <td>1</td>\n",
       "      <td>0.145833</td>\n",
       "      <td>2473.0</td>\n",
       "    </tr>\n",
       "    <tr>\n",
       "      <th>5</th>\n",
       "      <td>Bayside - Little Neck</td>\n",
       "      <td>Blocked Driveway</td>\n",
       "      <td>2024</td>\n",
       "      <td>1</td>\n",
       "      <td>1</td>\n",
       "      <td>0.598889</td>\n",
       "      <td>2473.0</td>\n",
       "    </tr>\n",
       "    <tr>\n",
       "      <th>6</th>\n",
       "      <td>Bayside - Little Neck</td>\n",
       "      <td>Commercial Disposal Complaint</td>\n",
       "      <td>2024</td>\n",
       "      <td>1</td>\n",
       "      <td>1</td>\n",
       "      <td>172.530556</td>\n",
       "      <td>2473.0</td>\n",
       "    </tr>\n",
       "    <tr>\n",
       "      <th>7</th>\n",
       "      <td>Bayside - Little Neck</td>\n",
       "      <td>Damaged Tree</td>\n",
       "      <td>2024</td>\n",
       "      <td>1</td>\n",
       "      <td>1</td>\n",
       "      <td>638.201667</td>\n",
       "      <td>2473.0</td>\n",
       "    </tr>\n",
       "    <tr>\n",
       "      <th>8</th>\n",
       "      <td>Bayside - Little Neck</td>\n",
       "      <td>General Construction/Plumbing</td>\n",
       "      <td>2024</td>\n",
       "      <td>1</td>\n",
       "      <td>1</td>\n",
       "      <td>0.000000</td>\n",
       "      <td>2473.0</td>\n",
       "    </tr>\n",
       "    <tr>\n",
       "      <th>9</th>\n",
       "      <td>Bayside - Little Neck</td>\n",
       "      <td>HEAT/HOT WATER</td>\n",
       "      <td>2024</td>\n",
       "      <td>1</td>\n",
       "      <td>1</td>\n",
       "      <td>47.840000</td>\n",
       "      <td>2473.0</td>\n",
       "    </tr>\n",
       "  </tbody>\n",
       "</table>\n",
       "</div>"
      ],
      "text/plain": [
       "            neighborhood                 complaint_type  year  month  \\\n",
       "0  Bayside - Little Neck                Illegal Parking  2024      1   \n",
       "1  Bayside - Little Neck              Abandoned Vehicle  2024      1   \n",
       "2  Bayside - Little Neck                   Building/Use  2024      1   \n",
       "3  Bayside - Little Neck                      APPLIANCE  2024      1   \n",
       "4  Bayside - Little Neck      Bike/Roller/Skate Chronic  2024      1   \n",
       "5  Bayside - Little Neck               Blocked Driveway  2024      1   \n",
       "6  Bayside - Little Neck  Commercial Disposal Complaint  2024      1   \n",
       "7  Bayside - Little Neck                   Damaged Tree  2024      1   \n",
       "8  Bayside - Little Neck  General Construction/Plumbing  2024      1   \n",
       "9  Bayside - Little Neck                 HEAT/HOT WATER  2024      1   \n",
       "\n",
       "   complaint_count  median_resolution_time_hours  median_rent  \n",
       "0                7                      1.985833       2473.0  \n",
       "1                3                      2.465833       2473.0  \n",
       "2                2                    886.584028       2473.0  \n",
       "3                1                    260.415278       2473.0  \n",
       "4                1                      0.145833       2473.0  \n",
       "5                1                      0.598889       2473.0  \n",
       "6                1                    172.530556       2473.0  \n",
       "7                1                    638.201667       2473.0  \n",
       "8                1                      0.000000       2473.0  \n",
       "9                1                     47.840000       2473.0  "
      ]
     },
     "execution_count": 82,
     "metadata": {},
     "output_type": "execute_result"
    }
   ],
   "source": [
    "# Merge complaints and rent data on neighborhood, year, and month\n",
    "df_merged_monthly = pd.merge(\n",
    "    complaints_by_neighborhood, \n",
    "    rent_melted[['neighborhood', 'year', 'month', 'median_rent']], \n",
    "    on=['neighborhood', 'year', 'month'], \n",
    "    how='left'\n",
    ")\n",
    "\n",
    "print(f\"Final merged dataset shape: {df_merged_monthly.shape}\")\n",
    "print(f\"Records with rent data: {df_merged_monthly['median_rent'].notna().sum()}\")\n",
    "print(f\"Records without rent data: {df_merged_monthly['median_rent'].isna().sum()}\")\n",
    "\n",
    "# Display sample of merged data\n",
    "print(\"\\nSample of merged data:\")\n",
    "df_merged_monthly.head(10)"
   ]
  },
  {
   "cell_type": "markdown",
   "id": "4f3f2548",
   "metadata": {},
   "source": [
    "### Data Quality Check"
   ]
  },
  {
   "cell_type": "code",
   "execution_count": 83,
   "id": "0fce3f1f",
   "metadata": {},
   "outputs": [
    {
     "name": "stdout",
     "output_type": "stream",
     "text": [
      "=== Final Dataset Summary ===\n",
      "Total records: 13,062\n",
      "Date range: 2024-2025\n",
      "Unique neighborhoods: 42\n",
      "Unique complaint types: 154\n",
      "\n",
      "=== Data Completeness ===\n",
      "neighborhood                    100.00\n",
      "complaint_type                  100.00\n",
      "year                            100.00\n",
      "month                           100.00\n",
      "complaint_count                 100.00\n",
      "median_resolution_time_hours     95.73\n",
      "median_rent                      88.62\n",
      "dtype: float64\n",
      "\n",
      "=== Top 10 Neighborhoods by Complaint Volume ===\n",
      "neighborhood\n",
      "Northeast Bronx                       3925\n",
      "West Queens                           3495\n",
      "Washington Heights - Inwood           3241\n",
      "Downtown - Heights - Park Slope       2790\n",
      "Bedford Stuyvesant - Crown Heights    2705\n",
      "Southwest Queens                      2614\n",
      "Fordham - Bronx Park                  2534\n",
      "East Flatbush - Flatbush              2507\n",
      "Jamaica                               2365\n",
      "Long Island City - Astoria            2263\n",
      "Name: complaint_count, dtype: int64\n"
     ]
    }
   ],
   "source": [
    "# Final data quality checks\n",
    "print(\"=== Final Dataset Summary ===\")\n",
    "print(f\"Total records: {len(df_merged_monthly):,}\")\n",
    "print(f\"Date range: {df_merged_monthly['year'].min()}-{df_merged_monthly['year'].max()}\")\n",
    "print(f\"Unique neighborhoods: {df_merged_monthly['neighborhood'].nunique()}\")\n",
    "print(f\"Unique complaint types: {df_merged_monthly['complaint_type'].nunique()}\")\n",
    "\n",
    "print(\"\\n=== Data Completeness ===\")\n",
    "completeness = (df_merged_monthly.notna().sum() / len(df_merged_monthly) * 100).round(2)\n",
    "print(completeness)\n",
    "\n",
    "print(\"\\n=== Top 10 Neighborhoods by Complaint Volume ===\")\n",
    "top_neighborhoods = df_merged_monthly.groupby('neighborhood')['complaint_count'].sum().sort_values(ascending=False).head(10)\n",
    "print(top_neighborhoods)"
   ]
  },
  {
   "cell_type": "markdown",
   "id": "73bdc931",
   "metadata": {},
   "source": [
    "### Export Final Dataset"
   ]
  },
  {
   "cell_type": "code",
   "execution_count": 84,
   "id": "3f8b1fa5",
   "metadata": {},
   "outputs": [
    {
     "name": "stdout",
     "output_type": "stream",
     "text": [
      "Final dataset exported to: data/data_snapshot_for_gdv.csv\n",
      "Dataset shape: (13062, 7)\n",
      "\n",
      "Data wrangling pipeline completed successfully!\n"
     ]
    }
   ],
   "source": [
    "# Export the final merged dataset\n",
    "output_path = 'data/data_snapshot_for_gdv.csv'\n",
    "df_merged_monthly.to_csv(output_path, index=False)\n",
    "\n",
    "print(f\"Final dataset exported to: {output_path}\")\n",
    "print(f\"Dataset shape: {df_merged_monthly.shape}\")\n",
    "print(\"\\nData wrangling pipeline completed successfully!\")"
   ]
  }
 ],
 "metadata": {
  "kernelspec": {
   "display_name": ".venv (3.12.5)",
   "language": "python",
   "name": "python3"
  },
  "language_info": {
   "codemirror_mode": {
    "name": "ipython",
    "version": 3
   },
   "file_extension": ".py",
   "mimetype": "text/x-python",
   "name": "python",
   "nbconvert_exporter": "python",
   "pygments_lexer": "ipython3",
   "version": "3.12.5"
  }
 },
 "nbformat": 4,
 "nbformat_minor": 5
}
