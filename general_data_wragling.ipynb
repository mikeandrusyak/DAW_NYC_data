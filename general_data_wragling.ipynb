{
 "cells": [
  {
   "cell_type": "markdown",
   "id": "0",
   "metadata": {},
   "source": [
    "# NYC Data Wrangling Pipeline\n",
    "\n",
    "This notebook performs comprehensive data wrangling on NYC 311 complaint data and median rent data to create a unified dataset for analysis.\n",
    "\n",
    "## Pipeline Structure:\n",
    "1. **Data Import** - Load required libraries and datasets\n",
    "2. **Data Cleaning** - Handle missing values, duplicates, and data quality issues\n",
    "3. **Data Transformation** - Create new features and filter data\n",
    "4. **Data Integration** - Merge datasets and create final output"
   ]
  },
  {
   "cell_type": "markdown",
   "id": "1",
   "metadata": {},
   "source": [
    "## 1. Data Import"
   ]
  },
  {
   "cell_type": "markdown",
   "id": "2",
   "metadata": {},
   "source": [
    "### Import Required Libraries"
   ]
  },
  {
   "cell_type": "code",
   "execution_count": null,
   "id": "3",
   "metadata": {},
   "outputs": [],
   "source": [
    "# Import necessary libraries for data manipulation and analysis\n",
    "import pandas as pd\n",
    "import json"
   ]
  },
  {
   "cell_type": "markdown",
   "id": "4",
   "metadata": {},
   "source": [
    "### Load Datasets"
   ]
  },
  {
   "cell_type": "code",
   "execution_count": null,
   "id": "5",
   "metadata": {},
   "outputs": [],
   "source": [
    "# Load NYC 311 complaints data and median rent data\n",
    "df_nyc_311 = pd.read_csv('data/nyc_311_2024_2025_sample.csv', index_col=\"unique_key\")\n",
    "df_median_rent = pd.read_csv('data/medianAskingRent_All.csv')\n",
    "\n",
    "print(f\"NYC 311 data shape: {df_nyc_311.shape}\")\n",
    "print(f\"Median rent data shape: {df_median_rent.shape}\")"
   ]
  },
  {
   "cell_type": "markdown",
   "id": "6",
   "metadata": {},
   "source": [
    "### Load Mapping Files"
   ]
  },
  {
   "cell_type": "code",
   "execution_count": null,
   "id": "7",
   "metadata": {},
   "outputs": [],
   "source": [
    "# Load ZIP code to neighborhood mapping\n",
    "with open('nyc_uhf_zipcodes.json', 'r') as f:\n",
    "    uhf_data = json.load(f)\n",
    "\n",
    "# Load manual mapping for area names to neighborhoods\n",
    "with open('manual_map.json', 'r') as f:\n",
    "    manual_map = json.load(f)"
   ]
  },
  {
   "cell_type": "markdown",
   "id": "8",
   "metadata": {},
   "source": [
    "### Initial Data Exploration"
   ]
  },
  {
   "cell_type": "code",
   "execution_count": null,
   "id": "9",
   "metadata": {},
   "outputs": [],
   "source": [
    "# Display basic information about the datasets\n",
    "print(\"=== NYC 311 Dataset Sample ===\")\n",
    "print(df_nyc_311.head())\n",
    "print(\"\\n=== Median Rent Dataset Sample ===\")\n",
    "print(df_median_rent.head())"
   ]
  },
  {
   "cell_type": "markdown",
   "id": "10",
   "metadata": {},
   "source": [
    "## 2. Data Cleaning"
   ]
  },
  {
   "cell_type": "markdown",
   "id": "11",
   "metadata": {},
   "source": [
    "### NYC 311 Data - Column Selection and Initial Cleaning"
   ]
  },
  {
   "cell_type": "code",
   "execution_count": null,
   "id": "12",
   "metadata": {},
   "outputs": [],
   "source": [
    "# Select relevant columns for analysis\n",
    "list_of_relevant_columns = ['created_date', 'closed_date', 'complaint_type',\n",
    "                            'descriptor', 'status', 'resolution_description',\n",
    "                            'resolution_action_updated_date', 'borough',\n",
    "                            'community_board', 'incident_zip', \n",
    "                            'incident_address', 'street_name', 'city',\n",
    "                            'latitude', 'longitude']\n",
    "\n",
    "df_nyc_311_selected = df_nyc_311[list_of_relevant_columns].copy()\n",
    "print(f\"Selected {len(list_of_relevant_columns)} columns from NYC 311 data\")"
   ]
  },
  {
   "cell_type": "markdown",
   "id": "13",
   "metadata": {},
   "source": [
    "### Median Rent Data - Column Selection"
   ]
  },
  {
   "cell_type": "code",
   "execution_count": null,
   "id": "14",
   "metadata": {},
   "outputs": [],
   "source": [
    "# Select relevant date columns (2024-2025) and basic info columns\n",
    "date_columns = [col for col in df_median_rent.columns if col.startswith('2024') or col.startswith('2025')]\n",
    "df_median_rent_selected = df_median_rent[df_median_rent.columns[:3].to_list() + date_columns].copy()\n",
    "print(f\"Selected {len(date_columns)} date columns plus 3 info columns from rent data\")"
   ]
  },
  {
   "cell_type": "markdown",
   "id": "15",
   "metadata": {},
   "source": [
    "### Missing Values Analysis"
   ]
  },
  {
   "cell_type": "code",
   "execution_count": null,
   "id": "16",
   "metadata": {},
   "outputs": [],
   "source": [
    "# Analyze missing values in NYC 311 data\n",
    "missing_values = df_nyc_311_selected.isna().sum().sort_values(ascending=False)\n",
    "missing_percentage = (df_nyc_311_selected.isna().sum() / len(df_nyc_311_selected) * 100).sort_values(ascending=False)\n",
    "\n",
    "missing_data = pd.DataFrame({\n",
    "    'Missing_Count': missing_values,\n",
    "    'Missing_Percentage': missing_percentage\n",
    "})\n",
    "\n",
    "# Only show columns with missing values\n",
    "missing_data = missing_data[missing_data['Missing_Count'] > 0]\n",
    "\n",
    "print(f\"Total number of rows in NYC 311 dataset: {len(df_nyc_311_selected)}\")\n",
    "print(\"\\nMissing values analysis:\")\n",
    "missing_data.round(2)"
   ]
  },
  {
   "cell_type": "code",
   "execution_count": null,
   "id": "17",
   "metadata": {},
   "outputs": [],
   "source": [
    "# Analyze missing values in rent data\n",
    "missing_values_rent = df_median_rent_selected.isna().sum().sort_values(ascending=False)\n",
    "missing_percentage_rent = (df_median_rent_selected.isna().sum() / len(df_median_rent_selected) * 100).sort_values(ascending=False)\n",
    "\n",
    "missing_data_rent = pd.DataFrame({\n",
    "    'Missing_Count': missing_values_rent,\n",
    "    'Missing_Percentage': missing_percentage_rent\n",
    "})\n",
    "\n",
    "missing_data_rent = missing_data_rent[missing_data_rent['Missing_Count'] > 0]\n",
    "\n",
    "print(f\"Total number of rows in rent dataset: {len(df_median_rent_selected)}\")\n",
    "print(\"\\nMissing values analysis for rent data:\")\n",
    "missing_data_rent.round(2)"
   ]
  },
  {
   "cell_type": "markdown",
   "id": "18",
   "metadata": {},
   "source": [
    "### Duplicate Removal"
   ]
  },
  {
   "cell_type": "code",
   "execution_count": null,
   "id": "19",
   "metadata": {},
   "outputs": [],
   "source": [
    "# Check and remove duplicate rows\n",
    "print(f\"Duplicate rows in rent data: {df_median_rent_selected.duplicated().sum()}\")\n",
    "print(f\"Duplicate rows in 311 data: {df_nyc_311_selected.duplicated().sum()}\")\n",
    "\n",
    "# Remove duplicates from NYC 311 data\n",
    "original_shape = df_nyc_311_selected.shape\n",
    "df_nyc_311_selected = df_nyc_311_selected.drop_duplicates()\n",
    "print(f\"Removed {original_shape[0] - df_nyc_311_selected.shape[0]} duplicate rows from NYC 311 data\")\n",
    "print(f\"New shape: {df_nyc_311_selected.shape}\")"
   ]
  },
  {
   "cell_type": "markdown",
   "id": "20",
   "metadata": {},
   "source": [
    "### Date Data Cleaning"
   ]
  },
  {
   "cell_type": "code",
   "execution_count": null,
   "id": "21",
   "metadata": {},
   "outputs": [],
   "source": [
    "# Convert date columns to datetime format\n",
    "df_nyc_311_selected['created_date'] = pd.to_datetime(df_nyc_311_selected['created_date'], errors='coerce')\n",
    "df_nyc_311_selected['closed_date'] = pd.to_datetime(df_nyc_311_selected['closed_date'], errors='coerce')\n",
    "df_nyc_311_selected['resolution_action_updated_date'] = pd.to_datetime(df_nyc_311_selected['resolution_action_updated_date'], errors='coerce')\n",
    "\n",
    "# Remove invalid date records (created_date > closed_date)\n",
    "invalid_dates = df_nyc_311_selected[df_nyc_311_selected['created_date'] > df_nyc_311_selected['closed_date']]\n",
    "print(f\"Number of rows with created_date > closed_date (will be removed): {invalid_dates.shape[0]}\")\n",
    "\n",
    "df_nyc_311_selected = df_nyc_311_selected[\n",
    "    (df_nyc_311_selected['created_date'] <= df_nyc_311_selected['closed_date']) | \n",
    "    (df_nyc_311_selected['closed_date'].isna())\n",
    "]\n",
    "\n",
    "print(f\"Final NYC 311 data shape after date cleaning: {df_nyc_311_selected.shape}\")"
   ]
  },
  {
   "cell_type": "markdown",
   "id": "22",
   "metadata": {},
   "source": [
    "### Geographic Data Cleaning"
   ]
  },
  {
   "cell_type": "code",
   "execution_count": null,
   "id": "23",
   "metadata": {},
   "outputs": [],
   "source": [
    "# Standardize city names: trim whitespace and convert to uppercase\n",
    "df_nyc_311_selected['city'] = df_nyc_311_selected['city'].str.strip().str.upper()\n",
    "\n",
    "# Replace known outside NYC locations with 'OUTSIDE NYC'\n",
    "outside_nyc_locations = ['FLORAL PARK', 'NEW HYDE PARK', 'BREEZY POINT']\n",
    "df_nyc_311_selected['city'] = df_nyc_311_selected['city'].replace(outside_nyc_locations, 'OUTSIDE NYC')\n",
    "\n",
    "print(\"City names standardized\")\n",
    "print(f\"Unique cities after cleaning: {df_nyc_311_selected['city'].nunique()}\")"
   ]
  },
  {
   "cell_type": "markdown",
   "id": "24",
   "metadata": {},
   "source": [
    "## 3. Data Transformation"
   ]
  },
  {
   "cell_type": "markdown",
   "id": "25",
   "metadata": {},
   "source": [
    "### Feature Engineering - NYC 311 Data"
   ]
  },
  {
   "cell_type": "code",
   "execution_count": null,
   "id": "26",
   "metadata": {},
   "outputs": [],
   "source": [
    "# Calculate resolution time in hours\n",
    "df_nyc_311_selected['resolution_time_hours'] = (\n",
    "    df_nyc_311_selected['closed_date'] - df_nyc_311_selected['created_date']\n",
    ").dt.total_seconds() / 3600\n",
    "\n",
    "# Extract month and year from created_date\n",
    "df_nyc_311_selected['month'] = df_nyc_311_selected['created_date'].dt.month\n",
    "df_nyc_311_selected['year'] = df_nyc_311_selected['created_date'].dt.year\n",
    "\n",
    "print(\"Created new features: resolution_time_hours, month, year\")\n",
    "print(f\"Resolution time statistics:\")\n",
    "print(df_nyc_311_selected['resolution_time_hours'].describe())"
   ]
  },
  {
   "cell_type": "markdown",
   "id": "27",
   "metadata": {},
   "source": [
    "### Geographic Mapping - ZIP to Neighborhood"
   ]
  },
  {
   "cell_type": "code",
   "execution_count": null,
   "id": "28",
   "metadata": {},
   "outputs": [],
   "source": [
    "# Create ZIP code to neighborhood mapping dictionary\n",
    "zip_to_neighborhood = {}\n",
    "\n",
    "for borough, neighborhoods in uhf_data.items():\n",
    "    for neighborhood_info in neighborhoods:\n",
    "        neighborhood_name = neighborhood_info['neighborhood']\n",
    "        zip_codes = neighborhood_info['zip_codes']\n",
    "        \n",
    "        for zip_code in zip_codes:\n",
    "            zip_to_neighborhood[zip_code] = neighborhood_name\n",
    "\n",
    "print(f\"Created mapping for {len(zip_to_neighborhood)} ZIP codes to neighborhoods\")"
   ]
  },
  {
   "cell_type": "code",
   "execution_count": null,
   "id": "29",
   "metadata": {},
   "outputs": [],
   "source": [
    "# Map ZIP codes to neighborhoods for NYC 311 data\n",
    "df_nyc_311_selected['incident_zip_str'] = (\n",
    "    df_nyc_311_selected['incident_zip'].fillna(0).astype(int).astype(str).str.zfill(5)\n",
    ")\n",
    "df_nyc_311_selected.loc[df_nyc_311_selected['incident_zip'].isna(), 'incident_zip_str'] = None\n",
    "\n",
    "df_nyc_311_selected['neighborhood'] = df_nyc_311_selected['incident_zip_str'].map(zip_to_neighborhood)\n",
    "\n",
    "# Report mapping results\n",
    "mapped_records = df_nyc_311_selected['neighborhood'].notna().sum()\n",
    "total_records = len(df_nyc_311_selected)\n",
    "coverage_percentage = (mapped_records / total_records * 100)\n",
    "\n",
    "print(f\"Neighborhood mapping results:\")\n",
    "print(f\"Records with neighborhood: {mapped_records:,}\")\n",
    "print(f\"Records without neighborhood: {total_records - mapped_records:,}\")\n",
    "print(f\"Coverage percentage: {coverage_percentage:.2f}%\")\n",
    "\n",
    "# Clean up temporary column\n",
    "df_nyc_311_selected = df_nyc_311_selected.drop('incident_zip_str', axis=1)"
   ]
  },
  {
   "cell_type": "markdown",
   "id": "30",
   "metadata": {},
   "source": [
    "### Geographic Mapping - Rent Data"
   ]
  },
  {
   "cell_type": "code",
   "execution_count": null,
   "id": "31",
   "metadata": {},
   "outputs": [],
   "source": [
    "# Map area names to neighborhoods for rent data\n",
    "df_median_rent_selected['neighborhood'] = df_median_rent_selected['areaName'].str.lower().map(manual_map)\n",
    "\n",
    "# Report mapping results for rent data\n",
    "mapped_rent_records = df_median_rent_selected['neighborhood'].notna().sum()\n",
    "total_rent_records = len(df_median_rent_selected)\n",
    "\n",
    "print(f\"Rent data neighborhood mapping results:\")\n",
    "print(f\"Records with neighborhood: {mapped_rent_records}\")\n",
    "print(f\"Records without neighborhood: {total_rent_records - mapped_rent_records}\")\n",
    "print(f\"Coverage percentage: {(mapped_rent_records / total_rent_records * 100):.2f}%\")"
   ]
  },
  {
   "cell_type": "markdown",
   "id": "32",
   "metadata": {},
   "source": [
    "### Data Aggregation - NYC 311 Complaints"
   ]
  },
  {
   "cell_type": "code",
   "execution_count": null,
   "id": "33",
   "metadata": {},
   "outputs": [],
   "source": [
    "# Aggregate complaints by neighborhood, complaint type, year, and month\n",
    "complaints_by_neighborhood = df_nyc_311_selected.groupby(\n",
    "    ['neighborhood', 'complaint_type', 'year', 'month']\n",
    ").agg({\n",
    "    'resolution_time_hours': ['count', 'median']\n",
    "}).reset_index()\n",
    "\n",
    "# Flatten column names\n",
    "complaints_by_neighborhood.columns = [\n",
    "    'neighborhood', 'complaint_type', 'year', 'month', \n",
    "    'complaint_count', 'median_resolution_time_hours'\n",
    "]\n",
    "\n",
    "# Sort by neighborhood, year, month, and complaint count\n",
    "complaints_by_neighborhood = complaints_by_neighborhood.sort_values(\n",
    "    by=['neighborhood', 'year', 'month', 'complaint_count'], \n",
    "    ascending=[True, True, True, False]\n",
    ")\n",
    "\n",
    "print(f\"Aggregated complaints data shape: {complaints_by_neighborhood.shape}\")\n",
    "print(f\"Unique neighborhoods in complaints: {complaints_by_neighborhood['neighborhood'].nunique()}\")"
   ]
  },
  {
   "cell_type": "markdown",
   "id": "34",
   "metadata": {},
   "source": [
    "### Data Aggregation - Rent Data"
   ]
  },
  {
   "cell_type": "code",
   "execution_count": null,
   "id": "35",
   "metadata": {},
   "outputs": [],
   "source": [
    "# Aggregate rent data by neighborhood (median across all areas in same neighborhood)\n",
    "date_columns = [col for col in df_median_rent_selected.columns if col.startswith('2024') or col.startswith('2025')]\n",
    "median_rent_by_neighborhood = df_median_rent_selected.groupby('neighborhood')[date_columns].median()\n",
    "\n",
    "print(f\"Aggregated rent data shape: {median_rent_by_neighborhood.shape}\")\n",
    "print(f\"Unique neighborhoods in rent data: {median_rent_by_neighborhood.index.nunique()}\")"
   ]
  },
  {
   "cell_type": "markdown",
   "id": "36",
   "metadata": {},
   "source": [
    "### Reshape Rent Data"
   ]
  },
  {
   "cell_type": "code",
   "execution_count": null,
   "id": "37",
   "metadata": {},
   "outputs": [],
   "source": [
    "# Reshape rent data from wide to long format\n",
    "rent_melted = median_rent_by_neighborhood.reset_index().melt(\n",
    "    id_vars='neighborhood', \n",
    "    var_name='date', \n",
    "    value_name='median_rent'\n",
    ")\n",
    "\n",
    "# Convert date column and extract year/month\n",
    "rent_melted['date'] = pd.to_datetime(rent_melted['date'])\n",
    "rent_melted['year'] = rent_melted['date'].dt.year\n",
    "rent_melted['month'] = rent_melted['date'].dt.month\n",
    "\n",
    "print(f\"Reshaped rent data shape: {rent_melted.shape}\")\n",
    "print(\"Sample of reshaped rent data:\")\n",
    "rent_melted.head()"
   ]
  },
  {
   "cell_type": "markdown",
   "id": "38",
   "metadata": {},
   "source": [
    "## 4. Data Integration"
   ]
  },
  {
   "cell_type": "markdown",
   "id": "39",
   "metadata": {},
   "source": [
    "### Merge Complaints and Rent Data"
   ]
  },
  {
   "cell_type": "code",
   "execution_count": null,
   "id": "40",
   "metadata": {},
   "outputs": [],
   "source": [
    "# Merge complaints and rent data on neighborhood, year, and month\n",
    "df_merged_monthly = pd.merge(\n",
    "    complaints_by_neighborhood, \n",
    "    rent_melted[['neighborhood', 'year', 'month', 'median_rent']], \n",
    "    on=['neighborhood', 'year', 'month'], \n",
    "    how='left'\n",
    ")\n",
    "\n",
    "print(f\"Final merged dataset shape: {df_merged_monthly.shape}\")\n",
    "print(f\"Records with rent data: {df_merged_monthly['median_rent'].notna().sum()}\")\n",
    "print(f\"Records without rent data: {df_merged_monthly['median_rent'].isna().sum()}\")\n",
    "\n",
    "# Display sample of merged data\n",
    "print(\"\\nSample of merged data:\")\n",
    "df_merged_monthly.head(10)"
   ]
  },
  {
   "cell_type": "markdown",
   "id": "41",
   "metadata": {},
   "source": [
    "### Data Quality Check"
   ]
  },
  {
   "cell_type": "code",
   "execution_count": null,
   "id": "42",
   "metadata": {},
   "outputs": [],
   "source": [
    "# Final data quality checks\n",
    "print(\"=== Final Dataset Summary ===\")\n",
    "print(f\"Total records: {len(df_merged_monthly):,}\")\n",
    "print(f\"Date range: {df_merged_monthly['year'].min()}-{df_merged_monthly['year'].max()}\")\n",
    "print(f\"Unique neighborhoods: {df_merged_monthly['neighborhood'].nunique()}\")\n",
    "print(f\"Unique complaint types: {df_merged_monthly['complaint_type'].nunique()}\")\n",
    "\n",
    "print(\"\\n=== Data Completeness ===\")\n",
    "completeness = (df_merged_monthly.notna().sum() / len(df_merged_monthly) * 100).round(2)\n",
    "print(completeness)\n",
    "\n",
    "print(\"\\n=== Top 10 Neighborhoods by Complaint Volume ===\")\n",
    "top_neighborhoods = df_merged_monthly.groupby('neighborhood')['complaint_count'].sum().sort_values(ascending=False).head(10)\n",
    "print(top_neighborhoods)"
   ]
  },
  {
   "cell_type": "markdown",
   "id": "43",
   "metadata": {},
   "source": [
    "### Export Final Dataset"
   ]
  },
  {
   "cell_type": "code",
   "execution_count": null,
   "id": "44",
   "metadata": {},
   "outputs": [],
   "source": [
    "# Export the final merged dataset\n",
    "output_path = 'data/data_snapshot_for_gdv.csv'\n",
    "df_merged_monthly.to_csv(output_path, index=False)\n",
    "\n",
    "print(f\"Final dataset exported to: {output_path}\")\n",
    "print(f\"Dataset shape: {df_merged_monthly.shape}\")\n",
    "print(\"\\nData wrangling pipeline completed successfully!\")"
   ]
  }
 ],
 "metadata": {
  "kernelspec": {
   "display_name": "Python daw .venv",
   "language": "python",
   "name": "myproj-venv"
  },
  "language_info": {
   "codemirror_mode": {
    "name": "ipython",
    "version": 3
   },
   "file_extension": ".py",
   "mimetype": "text/x-python",
   "name": "python",
   "nbconvert_exporter": "python",
   "pygments_lexer": "ipython3",
   "version": "3.12.2"
  }
 },
 "nbformat": 4,
 "nbformat_minor": 5
}
