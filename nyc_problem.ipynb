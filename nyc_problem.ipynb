{
 "cells": [
  {
   "cell_type": "code",
   "execution_count": null,
   "id": "2e50124c",
   "metadata": {},
   "outputs": [],
   "source": [
    "import pandas as pd\n",
    "import seaborn as sns\n",
    "import matplotlib.pyplot as plt"
   ]
  },
  {
   "cell_type": "code",
   "execution_count": null,
   "id": "5d438dd9",
   "metadata": {},
   "outputs": [],
   "source": [
    "df_nyc = pd.read_csv('data/data_snapshot_for_gdv.csv')\n",
    "df_nyc.head()"
   ]
  },
  {
   "cell_type": "code",
   "execution_count": null,
   "id": "dbcd37ff",
   "metadata": {},
   "outputs": [],
   "source": [
    "last_to_help = df_nyc.groupby('neighborhood').agg({'median_resolution_time_hours': 'median'}).sort_values(by='median_resolution_time_hours', ascending=False)\n",
    "last_to_help"
   ]
  },
  {
   "cell_type": "code",
   "execution_count": null,
   "id": "be024083",
   "metadata": {},
   "outputs": [],
   "source": [
    "import geopandas as gpd\n",
    "import matplotlib.pyplot as plt\n",
    "\n",
    "# Load directly from NYC Open Data URLs\n",
    "boro_url = \"https://data.cityofnewyork.us/api/geospatial/7t3b-ywvw?method=export&format=GeoJSON\"\n",
    "nta_url  = \"https://data.cityofnewyork.us/api/geospatial/cpf4-rkhq?method=export&format=GeoJSON\"\n",
    "\n",
    "g_boro = gpd.read_file(boro_url).to_crs(3857)\n",
    "g_nta  = gpd.read_file(nta_url).to_crs(3857)\n",
    "\n",
    "# Plot empty boundaries\n",
    "fig, ax = plt.subplots(figsize=(8, 11), dpi=200)\n",
    "\n",
    "# Light fill for boroughs\n",
    "g_boro.plot(ax=ax, color=\"#f2f2f2\", edgecolor=\"none\")\n",
    "\n",
    "# Black neighborhood borders\n",
    "g_nta.boundary.plot(ax=ax, linewidth=0.35, edgecolor=\"#202020\")\n",
    "\n",
    "ax.set_axis_off()\n",
    "ax.set_aspect(\"equal\")\n",
    "plt.tight_layout()\n",
    "plt.show()"
   ]
  },
  {
   "cell_type": "code",
   "execution_count": null,
   "id": "32c621b9",
   "metadata": {},
   "outputs": [],
   "source": [
    "# Create horizontal bar chart for neighborhoods\n",
    "top_15_neighborhoods = last_to_help.head(15)\n",
    "\n",
    "plt.figure(figsize=(12, 10))\n",
    "\n",
    "# Create horizontal bars with single color\n",
    "bars = plt.barh(range(len(top_15_neighborhoods)), \n",
    "                top_15_neighborhoods['median_resolution_time_hours'],\n",
    "                color='steelblue', alpha=0.8, edgecolor='black', linewidth=0.5)\n",
    "\n",
    "# Add value labels\n",
    "for i, time in enumerate(top_15_neighborhoods['median_resolution_time_hours']):\n",
    "    plt.text(time + 1, i, f'{time:.1f}h', \n",
    "             va='center', ha='left', fontsize=10, fontweight='bold')\n",
    "\n",
    "# Customize the chart\n",
    "plt.yticks(range(len(top_15_neighborhoods)), top_15_neighborhoods.index, fontsize=11)\n",
    "plt.xlabel('Median Resolution Time (Hours)', fontsize=12, fontweight='bold')\n",
    "plt.title('NYC Neighborhoods: Slowest Service Response Times\\n(Top 15 by Median Resolution Time)', \n",
    "          fontsize=16, fontweight='bold', pad=20)\n",
    "\n",
    "# Add grid for better readability\n",
    "plt.grid(axis='x', alpha=0.3, linestyle='--')\n",
    "\n",
    "# Invert y-axis to show worst performers at top\n",
    "plt.gca().invert_yaxis()\n",
    "\n",
    "plt.tight_layout()\n",
    "plt.show()"
   ]
  },
  {
   "cell_type": "code",
   "execution_count": null,
   "id": "0b727065",
   "metadata": {},
   "outputs": [],
   "source": [
    "last_to_solve = df_nyc.groupby('complaint_type').agg({'median_resolution_time_hours': 'median'}).sort_values(by='median_resolution_time_hours', ascending=False).head(10)\n",
    "last_to_solve"
   ]
  },
  {
   "cell_type": "code",
   "execution_count": null,
   "id": "dbd59074",
   "metadata": {},
   "outputs": [],
   "source": [
    "plt.figure(figsize=(12, 8))\n",
    "bars = plt.bar(range(len(last_to_solve)), last_to_solve['median_resolution_time_hours'], \n",
    "               color='steelblue', alpha=0.8)\n",
    "\n",
    "# Add value labels on top of bars\n",
    "for i, bar in enumerate(bars):\n",
    "    height = bar.get_height()\n",
    "    plt.text(bar.get_x() + bar.get_width()/2., height + 50,\n",
    "             f'{height:.0f}h', ha='center', va='bottom', fontsize=10)\n",
    "\n",
    "# Customize the chart\n",
    "plt.title('Top 10 Complaint Types with Longest Resolution Times', \n",
    "          fontsize=16, fontweight='bold', pad=20)\n",
    "plt.xlabel('Complaint Type', fontsize=12, fontweight='bold')\n",
    "plt.ylabel('Median Resolution Time (Hours)', fontsize=12, fontweight='bold')\n",
    "\n",
    "# Rotate x-axis labels for better readability\n",
    "plt.xticks(range(len(last_to_solve)), last_to_solve.index, \n",
    "           rotation=45, ha='right', fontsize=10)\n",
    "plt.yticks(fontsize=10)\n",
    "\n",
    "# Add grid for better readability\n",
    "plt.grid(axis='y', alpha=0.3, linestyle='--')\n",
    "\n",
    "# Adjust layout to prevent label cutoff\n",
    "plt.tight_layout()\n",
    "\n",
    "# Display the chart\n",
    "plt.show()"
   ]
  },
  {
   "cell_type": "code",
   "execution_count": null,
   "id": "44cd0266",
   "metadata": {},
   "outputs": [],
   "source": [
    "top_city_pains = df_nyc.groupby('complaint_type').agg({'complaint_count': 'sum', 'median_resolution_time_hours': 'median'}).sort_values(by='complaint_count', ascending=False).head(10)\n",
    "top_city_pains"
   ]
  },
  {
   "cell_type": "code",
   "execution_count": null,
   "id": "09fe0491",
   "metadata": {},
   "outputs": [],
   "source": [
    "fig, (ax1, ax2) = plt.subplots(1, 2, figsize=(16, 8))\n",
    "\n",
    "# Chart 1: Complaint Count (horizontal bars colored by resolution time)\n",
    "# Dark colors for long resolution times, light colors for short resolution times\n",
    "colors = plt.cm.YlOrRd(top_city_pains['median_resolution_time_hours'] / top_city_pains['median_resolution_time_hours'].max())\n",
    "bars1 = ax1.barh(range(len(top_city_pains)), top_city_pains['complaint_count'], \n",
    "                 color=colors, alpha=0.8, edgecolor='black', linewidth=0.5)\n",
    "\n",
    "# Add value labels\n",
    "for i, (count, time) in enumerate(zip(top_city_pains['complaint_count'], top_city_pains['median_resolution_time_hours'])):\n",
    "    ax1.text(count + 200, i, f'{count:,}', va='center', ha='left', fontsize=9)\n",
    "\n",
    "ax1.set_yticks(range(len(top_city_pains)))\n",
    "ax1.set_yticklabels(top_city_pains.index, fontsize=10)\n",
    "ax1.set_xlabel('Number of Complaints', fontsize=12, fontweight='bold')\n",
    "ax1.set_title('Top 10 Complaint Types by Volume\\n(Color = Resolution Time)', fontsize=14, fontweight='bold')\n",
    "ax1.grid(axis='x', alpha=0.3, linestyle='--')\n",
    "\n",
    "# Chart 2: Resolution Time (horizontal bars)\n",
    "bars2 = ax2.barh(range(len(top_city_pains)), top_city_pains['median_resolution_time_hours'], \n",
    "                 color='coral', alpha=0.8, edgecolor='black', linewidth=0.5)\n",
    "\n",
    "# Add value labels\n",
    "for i, time in enumerate(top_city_pains['median_resolution_time_hours']):\n",
    "    ax2.text(time + max(top_city_pains['median_resolution_time_hours'])*0.02, i, \n",
    "             f'{time:.1f}h', va='center', ha='left', fontsize=9)\n",
    "\n",
    "ax2.set_yticks(range(len(top_city_pains)))\n",
    "ax2.set_yticklabels(top_city_pains.index, fontsize=10)\n",
    "ax2.set_xlabel('Median Resolution Time (Hours)', fontsize=12, fontweight='bold')\n",
    "ax2.set_title('Resolution Time for Each Complaint Type', fontsize=14, fontweight='bold')\n",
    "ax2.grid(axis='x', alpha=0.3, linestyle='--')\n",
    "\n",
    "# Add overall title\n",
    "fig.suptitle('NYC 311 Complaints Analysis: Volume vs Resolution Time', fontsize=16, fontweight='bold', y=0.98)\n",
    "\n",
    "plt.tight_layout()\n",
    "plt.show()"
   ]
  }
 ],
 "metadata": {
  "kernelspec": {
   "display_name": ".venv (3.12.5)",
   "language": "python",
   "name": "python3"
  },
  "language_info": {
   "codemirror_mode": {
    "name": "ipython",
    "version": 3
   },
   "file_extension": ".py",
   "mimetype": "text/x-python",
   "name": "python",
   "nbconvert_exporter": "python",
   "pygments_lexer": "ipython3",
   "version": "3.12.5"
  }
 },
 "nbformat": 4,
 "nbformat_minor": 5
}
