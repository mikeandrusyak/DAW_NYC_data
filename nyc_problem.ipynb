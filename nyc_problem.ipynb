{
 "cells": [
  {
   "cell_type": "code",
   "execution_count": null,
   "id": "2e50124c",
   "metadata": {},
   "outputs": [],
   "source": [
    "import pandas as pd\n",
    "import seaborn as sns\n",
    "import matplotlib.pyplot as plt"
   ]
  },
  {
   "cell_type": "code",
   "execution_count": null,
   "id": "5d438dd9",
   "metadata": {},
   "outputs": [],
   "source": [
    "df_nyc = pd.read_csv('data/data_snapshot_for_gdv.csv')\n",
    "df_nyc.head()"
   ]
  },
  {
   "cell_type": "code",
   "execution_count": null,
   "id": "dbcd37ff",
   "metadata": {},
   "outputs": [],
   "source": [
    "last_to_help = df_nyc.groupby('neighborhood').agg({'median_resolution_time_hours': 'median'}).sort_values(by='median_resolution_time_hours', ascending=False)\n",
    "last_to_help"
   ]
  },
  {
   "cell_type": "code",
   "execution_count": null,
   "id": "0b727065",
   "metadata": {},
   "outputs": [],
   "source": [
    "last_to_solve = df_nyc.groupby('complaint_type').agg({'median_resolution_time_hours': 'median'}).sort_values(by='median_resolution_time_hours', ascending=False)\n",
    "last_to_solve"
   ]
  },
  {
   "cell_type": "code",
   "execution_count": null,
   "id": "44cd0266",
   "metadata": {},
   "outputs": [],
   "source": [
    "top_city_pains = df_nyc.groupby('complaint_type').agg({'complaint_count': 'sum', 'median_resolution_time_hours': 'median'}).sort_values(by='complaint_count', ascending=False).head(10)\n",
    "top_city_pains"
   ]
  }
 ],
 "metadata": {
  "kernelspec": {
   "display_name": ".venv (3.12.5)",
   "language": "python",
   "name": "python3"
  },
  "language_info": {
   "codemirror_mode": {
    "name": "ipython",
    "version": 3
   },
   "file_extension": ".py",
   "mimetype": "text/x-python",
   "name": "python",
   "nbconvert_exporter": "python",
   "pygments_lexer": "ipython3",
   "version": "3.12.5"
  }
 },
 "nbformat": 4,
 "nbformat_minor": 5
}
