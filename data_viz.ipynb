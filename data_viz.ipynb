{
 "cells": [
  {
   "cell_type": "code",
   "execution_count": null,
   "id": "0",
   "metadata": {},
   "outputs": [],
   "source": [
    "# Importing necessary libraries\n",
    "import matplotlib.pyplot as plt\n",
    "import seaborn as sns \n",
    "import pandas as pd"
   ]
  },
  {
   "cell_type": "code",
   "execution_count": null,
   "id": "1",
   "metadata": {},
   "outputs": [],
   "source": [
    "df_viz = pd.read_csv('data/data_snapshot_for_gdv.csv')\n",
    "\n",
    "df_viz.head()"
   ]
  },
  {
   "cell_type": "markdown",
   "id": "2",
   "metadata": {},
   "source": [
    "# What Borough in NYC is the most comfortable to live in?\n",
    "Based on data from NYC 311 Service Requests and Median Asking Rent, I aim to explore which borough offers the best living conditions. The analysis considers both the average rent prices in each area and the number and type of complaints reported by residents."
   ]
  },
  {
   "cell_type": "markdown",
   "id": "3",
   "metadata": {},
   "source": [
    "## 1. Where is it most affordable to live?"
   ]
  },
  {
   "cell_type": "code",
   "execution_count": null,
   "id": "4",
   "metadata": {},
   "outputs": [],
   "source": [
    "df_viz_rent = df_viz.groupby('neighborhood', as_index=False)['median_rent'].median().sort_values(by='median_rent', ascending=False)\n",
    "\n",
    "plt.figure(figsize=(16, 9))\n",
    "sns.barplot(\n",
    "    data=df_viz_rent,\n",
    "    x=\"neighborhood\",\n",
    "    y=\"median_rent\",\n",
    "    palette=\"Reds_r\",  # dunkler = teurer\n",
    ")\n",
    "plt.title(\"Median Asking Rent by Neighborhood\", fontsize=14, pad=15)\n",
    "plt.xlabel(\"Neighborhood\")\n",
    "plt.ylabel(\"Median Rent (USD)\")\n",
    "plt.xticks(rotation=90)\n",
    "plt.tight_layout()\n",
    "plt.show()"
   ]
  },
  {
   "cell_type": "markdown",
   "id": "5",
   "metadata": {},
   "source": [
    "## 2. Where do residents complain the most? The Top 10"
   ]
  },
  {
   "cell_type": "code",
   "execution_count": null,
   "id": "6",
   "metadata": {},
   "outputs": [],
   "source": [
    "df_viz_complaints = df_viz.groupby('neighborhood', as_index=False)['complaint_count'].sum().sort_values(by='complaint_count', ascending=False)\n",
    "\n",
    "plt.figure(figsize=(16, 9))\n",
    "sns.barplot(\n",
    "    data=df_viz_complaints.head(10),   # z.B. Top 10\n",
    "    y=\"neighborhood\",\n",
    "    x=\"complaint_count\",\n",
    "    palette=\"Reds_r\"\n",
    ")\n",
    "plt.title(\"Top 10 Neighborhoods by number of complaints\", fontsize=14, pad=15)\n",
    "plt.xlabel(\"Number of Complaints\")\n",
    "plt.ylabel(\"Neighborhood\")\n",
    "plt.tight_layout()\n",
    "plt.show()"
   ]
  },
  {
   "cell_type": "markdown",
   "id": "7",
   "metadata": {},
   "source": [
    "## 3. What are people complaining about the most?"
   ]
  },
  {
   "cell_type": "code",
   "execution_count": null,
   "id": "8",
   "metadata": {},
   "outputs": [],
   "source": [
    "TOP_N = 5  # oder 10\n",
    "\n",
    "df_viz.\n",
    "\n",
    "# 1) Sicher aggregieren\n",
    "df_counts = (\n",
    "    df_viz.groupby([\"complaint_type\", \"neighborhood\"], as_index=False)[\"complaint_count\"]\n",
    "          .sum()\n",
    ")\n",
    "\n",
    "# 2) Top-N Complaint Types (gesamt)\n",
    "top_types = (\n",
    "    df_counts.groupby(\"complaint_type\", as_index=False)[\"complaint_count\"]\n",
    "             .sum()\n",
    "             .sort_values(\"complaint_count\", ascending=False)\n",
    "             .head(TOP_N)[\"complaint_type\"]\n",
    ")\n",
    "\n",
    "df_top = df_counts[df_counts[\"complaint_type\"].isin(top_types)]\n",
    "\n",
    "# 3) Pivot: Zeilen = Complaint Type, Spalten = Neighborhood\n",
    "pivot_abs = (\n",
    "    df_top.pivot(index=\"complaint_type\", columns=\"neighborhood\", values=\"complaint_count\")\n",
    "          .fillna(0)\n",
    ")\n",
    "\n",
    "# 4) Sinnvolle Sortierung:\n",
    "#    - Zeilen (Complaint Types) nach Gesamtvolumen absteigend\n",
    "pivot_abs = pivot_abs.loc[pivot_abs.sum(axis=1).sort_values(ascending=False).index]\n",
    "#    - Optional: Spalten (Neighborhoods) nach Gesamtvolumen absteigend\n",
    "pivot_abs = pivot_abs.loc[:, pivot_abs.sum(axis=0).sort_values(ascending=False).index]\n",
    "\n",
    "# 5b) Heatmap: zeilenweise normalisiert (% Anteile je Complaint Type über Neighborhoods)\n",
    "pivot_pct = pivot_abs.div(pivot_abs.sum(axis=1), axis=0) * 100\n",
    "\n",
    "plt.figure(figsize=(16, 9))\n",
    "sns.heatmap(\n",
    "    pivot_pct,\n",
    "    cmap=\"Reds\",\n",
    "    cbar_kws={\"label\": \"% share per complaint type\"},\n",
    "    linewidths=0.5,\n",
    "    linecolor=\"white\"\n",
    ")\n",
    "plt.title(\"Top Complaint Types × Neighborhood (% share per type)\")\n",
    "plt.xlabel(\"Neighborhood\")\n",
    "plt.ylabel(\"Complaint Type\")\n",
    "plt.tight_layout()\n",
    "plt.show()"
   ]
  },
  {
   "cell_type": "markdown",
   "id": "9",
   "metadata": {},
   "source": [
    "## 4. How is the correlation between rent and complaint"
   ]
  },
  {
   "cell_type": "markdown",
   "id": "10",
   "metadata": {},
   "source": [
    "## 5. Where on the map is rent the highest and complaints the most severe\n",
    "    - Need for catogorizing the complaints"
   ]
  }
 ],
 "metadata": {
  "kernelspec": {
   "display_name": "Python daw .venv",
   "language": "python",
   "name": "myproj-venv"
  },
  "language_info": {
   "codemirror_mode": {
    "name": "ipython",
    "version": 3
   },
   "file_extension": ".py",
   "mimetype": "text/x-python",
   "name": "python",
   "nbconvert_exporter": "python",
   "pygments_lexer": "ipython3",
   "version": "3.12.2"
  }
 },
 "nbformat": 4,
 "nbformat_minor": 5
}
