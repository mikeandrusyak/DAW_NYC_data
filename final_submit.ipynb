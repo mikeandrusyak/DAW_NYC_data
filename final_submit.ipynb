{
 "cells": [
  {
   "cell_type": "markdown",
   "id": "0",
   "metadata": {},
   "source": [
    "Final Submit DAW\n",
    "<br>\n",
    "Authors: Mychailo & Roberto\n",
    "\n",
    "#  **New York State of Mind**\n",
    "\n",
    "##  **Introduction**\n",
    "\n",
    "This notebook presents the **final report** for our project in the module  \n",
    "**Data Wrangling (DAW)**.  \n",
    "\n",
    "It is based on two primary datasets:  \n",
    "\n",
    "- [NYC 311 Service Requests](https://data.cityofnewyork.us/Social-Services/311-Service-Requests-from-2010-to-Present/erm2-nwe9/about_data)  \n",
    "- [StreetEasy Data Dashboard](https://streeteasy.com/blog/data-dashboard/?utm_source=chatgpt.com)  \n",
    "\n",
    "---\n",
    "\n",
    "The project demonstrates a complete **data wrangling pipeline**, covering the topics of the LE's in this module.\n",
    "\n",
    "1. **Importing** – retrieving and sampling real-world open data  \n",
    "2. **Data Cleaning** – preparing data for analysis  \n",
    "3. **Tranforming** – further preparation feature engineering  \n",
    "4. **Joining** - joining the data\n",
    "5. **Data Pipelines** – bla bla\n",
    "6. **Reproducability** - bla bla\n",
    "\n",
    "---\n",
    "\n",
    "Our work follows the structure of the **commonly used data exploration framework**, \n",
    "\n",
    "---\n",
    "<img src=\"./img/data_exploring.png\">\n"
   ]
  },
  {
   "cell_type": "markdown",
   "id": "1",
   "metadata": {},
   "source": [
    "## LE1 Importing\n",
    "Whole ass explenation on how to import"
   ]
  },
  {
   "cell_type": "code",
   "execution_count": null,
   "id": "2",
   "metadata": {},
   "outputs": [],
   "source": [
    "# Importing Data\n",
    "# TODO: Actually call the function and import"
   ]
  },
  {
   "cell_type": "markdown",
   "id": "3",
   "metadata": {},
   "source": [
    "### Testing the import of the data"
   ]
  },
  {
   "cell_type": "code",
   "execution_count": null,
   "id": "4",
   "metadata": {},
   "outputs": [],
   "source": [
    "# Testing the import \n",
    "# TODO: Test the import "
   ]
  }
 ],
 "metadata": {
  "kernelspec": {
   "display_name": "Python daw .venv",
   "language": "python",
   "name": "myproj-venv"
  },
  "language_info": {
   "name": "python",
   "version": "3.12.2"
  }
 },
 "nbformat": 4,
 "nbformat_minor": 5
}
